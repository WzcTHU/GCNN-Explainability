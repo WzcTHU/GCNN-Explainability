{
 "cells": [
  {
   "cell_type": "code",
   "execution_count": 21,
   "metadata": {},
   "outputs": [
    {
     "name": "stderr",
     "output_type": "stream",
     "text": [
      "WARNING:chainer_chemistry.datasets.molnet.molnet:Downloading BBBP.csv dataset, it takes time...\n",
      "INFO:filelock:Lock 140157420806776 acquired on /home/nsdey/.chainer/dataset/_dl_cache/_dl_lock\n",
      "INFO:filelock:Lock 140157420806776 released on /home/nsdey/.chainer/dataset/_dl_cache/_dl_lock\n",
      "Downloading from http://deepchem.io.s3-website-us-west-1.amazonaws.com/datasets/BBBP.csv...\n",
      "INFO:filelock:Lock 140157418244864 acquired on /home/nsdey/.chainer/dataset/_dl_cache/_dl_lock\n",
      "INFO:filelock:Lock 140157418244864 released on /home/nsdey/.chainer/dataset/_dl_cache/_dl_lock\n",
      "  0%|          | 0/2050 [00:00<?, ?it/s]WARNING:chainer_chemistry.dataset.parsers.data_frame_parser:parse(), type: ValueError, ('`out_size` (=40) must be negative or larger than or equal to the number of atoms in the input molecules (=44).',)\n",
      "INFO:chainer_chemistry.dataset.parsers.data_frame_parser:Traceback (most recent call last):\n",
      "  File \"/home/nsdey/anaconda3/lib/python3.7/site-packages/chainer_chemistry/dataset/parsers/data_frame_parser.py\", line 104, in parse\n",
      "    input_features = pp.get_input_features(mol)\n",
      "  File \"/home/nsdey/anaconda3/lib/python3.7/site-packages/chainer_chemistry/dataset/preprocessors/nfp_preprocessor.py\", line 47, in get_input_features\n",
      "    atom_array = construct_atomic_number_array(mol, out_size=self.out_size)\n",
      "  File \"/home/nsdey/anaconda3/lib/python3.7/site-packages/chainer_chemistry/dataset/preprocessors/common.py\", line 66, in construct_atomic_number_array\n",
      "    '.'.format(out_size, n_atom))\n",
      "ValueError: `out_size` (=40) must be negative or larger than or equal to the number of atoms in the input molecules (=44).\n",
      "\n",
      "WARNING:chainer_chemistry.dataset.parsers.data_frame_parser:parse(), type: ValueError, ('`out_size` (=40) must be negative or larger than or equal to the number of atoms in the input molecules (=49).',)\n",
      "INFO:chainer_chemistry.dataset.parsers.data_frame_parser:Traceback (most recent call last):\n",
      "  File \"/home/nsdey/anaconda3/lib/python3.7/site-packages/chainer_chemistry/dataset/parsers/data_frame_parser.py\", line 104, in parse\n",
      "    input_features = pp.get_input_features(mol)\n",
      "  File \"/home/nsdey/anaconda3/lib/python3.7/site-packages/chainer_chemistry/dataset/preprocessors/nfp_preprocessor.py\", line 47, in get_input_features\n",
      "    atom_array = construct_atomic_number_array(mol, out_size=self.out_size)\n",
      "  File \"/home/nsdey/anaconda3/lib/python3.7/site-packages/chainer_chemistry/dataset/preprocessors/common.py\", line 66, in construct_atomic_number_array\n",
      "    '.'.format(out_size, n_atom))\n",
      "ValueError: `out_size` (=40) must be negative or larger than or equal to the number of atoms in the input molecules (=49).\n",
      "\n",
      "WARNING:chainer_chemistry.dataset.parsers.data_frame_parser:parse(), type: ValueError, ('`out_size` (=40) must be negative or larger than or equal to the number of atoms in the input molecules (=59).',)\n",
      "INFO:chainer_chemistry.dataset.parsers.data_frame_parser:Traceback (most recent call last):\n",
      "  File \"/home/nsdey/anaconda3/lib/python3.7/site-packages/chainer_chemistry/dataset/parsers/data_frame_parser.py\", line 104, in parse\n",
      "    input_features = pp.get_input_features(mol)\n",
      "  File \"/home/nsdey/anaconda3/lib/python3.7/site-packages/chainer_chemistry/dataset/preprocessors/nfp_preprocessor.py\", line 47, in get_input_features\n",
      "    atom_array = construct_atomic_number_array(mol, out_size=self.out_size)\n",
      "  File \"/home/nsdey/anaconda3/lib/python3.7/site-packages/chainer_chemistry/dataset/preprocessors/common.py\", line 66, in construct_atomic_number_array\n",
      "    '.'.format(out_size, n_atom))\n",
      "ValueError: `out_size` (=40) must be negative or larger than or equal to the number of atoms in the input molecules (=59).\n",
      "\n",
      "WARNING:chainer_chemistry.dataset.parsers.data_frame_parser:parse(), type: ValueError, ('`out_size` (=40) must be negative or larger than or equal to the number of atoms in the input molecules (=60).',)\n",
      "INFO:chainer_chemistry.dataset.parsers.data_frame_parser:Traceback (most recent call last):\n",
      "  File \"/home/nsdey/anaconda3/lib/python3.7/site-packages/chainer_chemistry/dataset/parsers/data_frame_parser.py\", line 104, in parse\n",
      "    input_features = pp.get_input_features(mol)\n",
      "  File \"/home/nsdey/anaconda3/lib/python3.7/site-packages/chainer_chemistry/dataset/preprocessors/nfp_preprocessor.py\", line 47, in get_input_features\n",
      "    atom_array = construct_atomic_number_array(mol, out_size=self.out_size)\n",
      "  File \"/home/nsdey/anaconda3/lib/python3.7/site-packages/chainer_chemistry/dataset/preprocessors/common.py\", line 66, in construct_atomic_number_array\n",
      "    '.'.format(out_size, n_atom))\n",
      "ValueError: `out_size` (=40) must be negative or larger than or equal to the number of atoms in the input molecules (=60).\n",
      "\n",
      "WARNING:chainer_chemistry.dataset.parsers.data_frame_parser:parse(), type: ValueError, ('`out_size` (=40) must be negative or larger than or equal to the number of atoms in the input molecules (=43).',)\n",
      "INFO:chainer_chemistry.dataset.parsers.data_frame_parser:Traceback (most recent call last):\n",
      "  File \"/home/nsdey/anaconda3/lib/python3.7/site-packages/chainer_chemistry/dataset/parsers/data_frame_parser.py\", line 104, in parse\n",
      "    input_features = pp.get_input_features(mol)\n",
      "  File \"/home/nsdey/anaconda3/lib/python3.7/site-packages/chainer_chemistry/dataset/preprocessors/nfp_preprocessor.py\", line 47, in get_input_features\n",
      "    atom_array = construct_atomic_number_array(mol, out_size=self.out_size)\n",
      "  File \"/home/nsdey/anaconda3/lib/python3.7/site-packages/chainer_chemistry/dataset/preprocessors/common.py\", line 66, in construct_atomic_number_array\n",
      "    '.'.format(out_size, n_atom))\n",
      "ValueError: `out_size` (=40) must be negative or larger than or equal to the number of atoms in the input molecules (=43).\n",
      "\n",
      "  6%|▌         | 117/2050 [00:00<00:01, 1167.54it/s]WARNING:chainer_chemistry.dataset.parsers.data_frame_parser:parse(), type: ValueError, ('`out_size` (=40) must be negative or larger than or equal to the number of atoms in the input molecules (=42).',)\n",
      "INFO:chainer_chemistry.dataset.parsers.data_frame_parser:Traceback (most recent call last):\n",
      "  File \"/home/nsdey/anaconda3/lib/python3.7/site-packages/chainer_chemistry/dataset/parsers/data_frame_parser.py\", line 104, in parse\n",
      "    input_features = pp.get_input_features(mol)\n",
      "  File \"/home/nsdey/anaconda3/lib/python3.7/site-packages/chainer_chemistry/dataset/preprocessors/nfp_preprocessor.py\", line 47, in get_input_features\n",
      "    atom_array = construct_atomic_number_array(mol, out_size=self.out_size)\n",
      "  File \"/home/nsdey/anaconda3/lib/python3.7/site-packages/chainer_chemistry/dataset/preprocessors/common.py\", line 66, in construct_atomic_number_array\n",
      "    '.'.format(out_size, n_atom))\n",
      "ValueError: `out_size` (=40) must be negative or larger than or equal to the number of atoms in the input molecules (=42).\n",
      "\n",
      "WARNING:chainer_chemistry.dataset.parsers.data_frame_parser:parse(), type: ValueError, ('`out_size` (=40) must be negative or larger than or equal to the number of atoms in the input molecules (=76).',)\n",
      "INFO:chainer_chemistry.dataset.parsers.data_frame_parser:Traceback (most recent call last):\n",
      "  File \"/home/nsdey/anaconda3/lib/python3.7/site-packages/chainer_chemistry/dataset/parsers/data_frame_parser.py\", line 104, in parse\n",
      "    input_features = pp.get_input_features(mol)\n",
      "  File \"/home/nsdey/anaconda3/lib/python3.7/site-packages/chainer_chemistry/dataset/preprocessors/nfp_preprocessor.py\", line 47, in get_input_features\n",
      "    atom_array = construct_atomic_number_array(mol, out_size=self.out_size)\n",
      "  File \"/home/nsdey/anaconda3/lib/python3.7/site-packages/chainer_chemistry/dataset/preprocessors/common.py\", line 66, in construct_atomic_number_array\n",
      "    '.'.format(out_size, n_atom))\n",
      "ValueError: `out_size` (=40) must be negative or larger than or equal to the number of atoms in the input molecules (=76).\n",
      "\n",
      "WARNING:chainer_chemistry.dataset.parsers.data_frame_parser:parse(), type: ValueError, ('`out_size` (=40) must be negative or larger than or equal to the number of atoms in the input molecules (=54).',)\n",
      "INFO:chainer_chemistry.dataset.parsers.data_frame_parser:Traceback (most recent call last):\n",
      "  File \"/home/nsdey/anaconda3/lib/python3.7/site-packages/chainer_chemistry/dataset/parsers/data_frame_parser.py\", line 104, in parse\n",
      "    input_features = pp.get_input_features(mol)\n",
      "  File \"/home/nsdey/anaconda3/lib/python3.7/site-packages/chainer_chemistry/dataset/preprocessors/nfp_preprocessor.py\", line 47, in get_input_features\n",
      "    atom_array = construct_atomic_number_array(mol, out_size=self.out_size)\n",
      "  File \"/home/nsdey/anaconda3/lib/python3.7/site-packages/chainer_chemistry/dataset/preprocessors/common.py\", line 66, in construct_atomic_number_array\n",
      "    '.'.format(out_size, n_atom))\n",
      "ValueError: `out_size` (=40) must be negative or larger than or equal to the number of atoms in the input molecules (=54).\n",
      "\n"
     ]
    },
    {
     "name": "stderr",
     "output_type": "stream",
     "text": [
      "WARNING:chainer_chemistry.dataset.parsers.data_frame_parser:parse(), type: ValueError, ('`out_size` (=40) must be negative or larger than or equal to the number of atoms in the input molecules (=55).',)\n",
      "INFO:chainer_chemistry.dataset.parsers.data_frame_parser:Traceback (most recent call last):\n",
      "  File \"/home/nsdey/anaconda3/lib/python3.7/site-packages/chainer_chemistry/dataset/parsers/data_frame_parser.py\", line 104, in parse\n",
      "    input_features = pp.get_input_features(mol)\n",
      "  File \"/home/nsdey/anaconda3/lib/python3.7/site-packages/chainer_chemistry/dataset/preprocessors/nfp_preprocessor.py\", line 47, in get_input_features\n",
      "    atom_array = construct_atomic_number_array(mol, out_size=self.out_size)\n",
      "  File \"/home/nsdey/anaconda3/lib/python3.7/site-packages/chainer_chemistry/dataset/preprocessors/common.py\", line 66, in construct_atomic_number_array\n",
      "    '.'.format(out_size, n_atom))\n",
      "ValueError: `out_size` (=40) must be negative or larger than or equal to the number of atoms in the input molecules (=55).\n",
      "\n",
      "WARNING:chainer_chemistry.dataset.parsers.data_frame_parser:parse(), type: ValueError, ('`out_size` (=40) must be negative or larger than or equal to the number of atoms in the input molecules (=46).',)\n",
      "INFO:chainer_chemistry.dataset.parsers.data_frame_parser:Traceback (most recent call last):\n",
      "  File \"/home/nsdey/anaconda3/lib/python3.7/site-packages/chainer_chemistry/dataset/parsers/data_frame_parser.py\", line 104, in parse\n",
      "    input_features = pp.get_input_features(mol)\n",
      "  File \"/home/nsdey/anaconda3/lib/python3.7/site-packages/chainer_chemistry/dataset/preprocessors/nfp_preprocessor.py\", line 47, in get_input_features\n",
      "    atom_array = construct_atomic_number_array(mol, out_size=self.out_size)\n",
      "  File \"/home/nsdey/anaconda3/lib/python3.7/site-packages/chainer_chemistry/dataset/preprocessors/common.py\", line 66, in construct_atomic_number_array\n",
      "    '.'.format(out_size, n_atom))\n",
      "ValueError: `out_size` (=40) must be negative or larger than or equal to the number of atoms in the input molecules (=46).\n",
      "\n",
      "WARNING:chainer_chemistry.dataset.parsers.data_frame_parser:parse(), type: ValueError, ('`out_size` (=40) must be negative or larger than or equal to the number of atoms in the input molecules (=44).',)\n",
      "INFO:chainer_chemistry.dataset.parsers.data_frame_parser:Traceback (most recent call last):\n",
      "  File \"/home/nsdey/anaconda3/lib/python3.7/site-packages/chainer_chemistry/dataset/parsers/data_frame_parser.py\", line 104, in parse\n",
      "    input_features = pp.get_input_features(mol)\n",
      "  File \"/home/nsdey/anaconda3/lib/python3.7/site-packages/chainer_chemistry/dataset/preprocessors/nfp_preprocessor.py\", line 47, in get_input_features\n",
      "    atom_array = construct_atomic_number_array(mol, out_size=self.out_size)\n",
      "  File \"/home/nsdey/anaconda3/lib/python3.7/site-packages/chainer_chemistry/dataset/preprocessors/common.py\", line 66, in construct_atomic_number_array\n",
      "    '.'.format(out_size, n_atom))\n",
      "ValueError: `out_size` (=40) must be negative or larger than or equal to the number of atoms in the input molecules (=44).\n",
      "\n",
      "WARNING:chainer_chemistry.dataset.parsers.data_frame_parser:parse(), type: ValueError, ('`out_size` (=40) must be negative or larger than or equal to the number of atoms in the input molecules (=52).',)\n",
      "INFO:chainer_chemistry.dataset.parsers.data_frame_parser:Traceback (most recent call last):\n",
      "  File \"/home/nsdey/anaconda3/lib/python3.7/site-packages/chainer_chemistry/dataset/parsers/data_frame_parser.py\", line 104, in parse\n",
      "    input_features = pp.get_input_features(mol)\n",
      "  File \"/home/nsdey/anaconda3/lib/python3.7/site-packages/chainer_chemistry/dataset/preprocessors/nfp_preprocessor.py\", line 47, in get_input_features\n",
      "    atom_array = construct_atomic_number_array(mol, out_size=self.out_size)\n",
      "  File \"/home/nsdey/anaconda3/lib/python3.7/site-packages/chainer_chemistry/dataset/preprocessors/common.py\", line 66, in construct_atomic_number_array\n",
      "    '.'.format(out_size, n_atom))\n",
      "ValueError: `out_size` (=40) must be negative or larger than or equal to the number of atoms in the input molecules (=52).\n",
      "\n",
      "WARNING:chainer_chemistry.dataset.parsers.data_frame_parser:parse(), type: ValueError, ('`out_size` (=40) must be negative or larger than or equal to the number of atoms in the input molecules (=100).',)\n",
      "INFO:chainer_chemistry.dataset.parsers.data_frame_parser:Traceback (most recent call last):\n",
      "  File \"/home/nsdey/anaconda3/lib/python3.7/site-packages/chainer_chemistry/dataset/parsers/data_frame_parser.py\", line 104, in parse\n",
      "    input_features = pp.get_input_features(mol)\n",
      "  File \"/home/nsdey/anaconda3/lib/python3.7/site-packages/chainer_chemistry/dataset/preprocessors/nfp_preprocessor.py\", line 47, in get_input_features\n",
      "    atom_array = construct_atomic_number_array(mol, out_size=self.out_size)\n",
      "  File \"/home/nsdey/anaconda3/lib/python3.7/site-packages/chainer_chemistry/dataset/preprocessors/common.py\", line 66, in construct_atomic_number_array\n",
      "    '.'.format(out_size, n_atom))\n",
      "ValueError: `out_size` (=40) must be negative or larger than or equal to the number of atoms in the input molecules (=100).\n",
      "\n",
      "WARNING:chainer_chemistry.dataset.parsers.data_frame_parser:parse(), type: ValueError, ('`out_size` (=40) must be negative or larger than or equal to the number of atoms in the input molecules (=43).',)\n",
      "INFO:chainer_chemistry.dataset.parsers.data_frame_parser:Traceback (most recent call last):\n",
      "  File \"/home/nsdey/anaconda3/lib/python3.7/site-packages/chainer_chemistry/dataset/parsers/data_frame_parser.py\", line 104, in parse\n",
      "    input_features = pp.get_input_features(mol)\n",
      "  File \"/home/nsdey/anaconda3/lib/python3.7/site-packages/chainer_chemistry/dataset/preprocessors/nfp_preprocessor.py\", line 47, in get_input_features\n",
      "    atom_array = construct_atomic_number_array(mol, out_size=self.out_size)\n",
      "  File \"/home/nsdey/anaconda3/lib/python3.7/site-packages/chainer_chemistry/dataset/preprocessors/common.py\", line 66, in construct_atomic_number_array\n",
      "    '.'.format(out_size, n_atom))\n",
      "ValueError: `out_size` (=40) must be negative or larger than or equal to the number of atoms in the input molecules (=43).\n",
      "\n",
      "WARNING:chainer_chemistry.dataset.parsers.data_frame_parser:parse(), type: ValueError, ('`out_size` (=40) must be negative or larger than or equal to the number of atoms in the input molecules (=51).',)\n",
      "INFO:chainer_chemistry.dataset.parsers.data_frame_parser:Traceback (most recent call last):\n",
      "  File \"/home/nsdey/anaconda3/lib/python3.7/site-packages/chainer_chemistry/dataset/parsers/data_frame_parser.py\", line 104, in parse\n",
      "    input_features = pp.get_input_features(mol)\n",
      "  File \"/home/nsdey/anaconda3/lib/python3.7/site-packages/chainer_chemistry/dataset/preprocessors/nfp_preprocessor.py\", line 47, in get_input_features\n",
      "    atom_array = construct_atomic_number_array(mol, out_size=self.out_size)\n",
      "  File \"/home/nsdey/anaconda3/lib/python3.7/site-packages/chainer_chemistry/dataset/preprocessors/common.py\", line 66, in construct_atomic_number_array\n",
      "    '.'.format(out_size, n_atom))\n",
      "ValueError: `out_size` (=40) must be negative or larger than or equal to the number of atoms in the input molecules (=51).\n",
      "\n",
      " 11%|█         | 224/2050 [00:00<00:01, 1135.22it/s]WARNING:chainer_chemistry.dataset.parsers.data_frame_parser:parse(), type: ValueError, ('`out_size` (=40) must be negative or larger than or equal to the number of atoms in the input molecules (=49).',)\n",
      "INFO:chainer_chemistry.dataset.parsers.data_frame_parser:Traceback (most recent call last):\n",
      "  File \"/home/nsdey/anaconda3/lib/python3.7/site-packages/chainer_chemistry/dataset/parsers/data_frame_parser.py\", line 104, in parse\n",
      "    input_features = pp.get_input_features(mol)\n",
      "  File \"/home/nsdey/anaconda3/lib/python3.7/site-packages/chainer_chemistry/dataset/preprocessors/nfp_preprocessor.py\", line 47, in get_input_features\n",
      "    atom_array = construct_atomic_number_array(mol, out_size=self.out_size)\n",
      "  File \"/home/nsdey/anaconda3/lib/python3.7/site-packages/chainer_chemistry/dataset/preprocessors/common.py\", line 66, in construct_atomic_number_array\n",
      "    '.'.format(out_size, n_atom))\n",
      "ValueError: `out_size` (=40) must be negative or larger than or equal to the number of atoms in the input molecules (=49).\n",
      "\n",
      "WARNING:chainer_chemistry.dataset.parsers.data_frame_parser:parse(), type: ValueError, ('`out_size` (=40) must be negative or larger than or equal to the number of atoms in the input molecules (=50).',)\n"
     ]
    },
    {
     "name": "stderr",
     "output_type": "stream",
     "text": [
      "INFO:chainer_chemistry.dataset.parsers.data_frame_parser:Traceback (most recent call last):\n",
      "  File \"/home/nsdey/anaconda3/lib/python3.7/site-packages/chainer_chemistry/dataset/parsers/data_frame_parser.py\", line 104, in parse\n",
      "    input_features = pp.get_input_features(mol)\n",
      "  File \"/home/nsdey/anaconda3/lib/python3.7/site-packages/chainer_chemistry/dataset/preprocessors/nfp_preprocessor.py\", line 47, in get_input_features\n",
      "    atom_array = construct_atomic_number_array(mol, out_size=self.out_size)\n",
      "  File \"/home/nsdey/anaconda3/lib/python3.7/site-packages/chainer_chemistry/dataset/preprocessors/common.py\", line 66, in construct_atomic_number_array\n",
      "    '.'.format(out_size, n_atom))\n",
      "ValueError: `out_size` (=40) must be negative or larger than or equal to the number of atoms in the input molecules (=50).\n",
      "\n",
      "WARNING:chainer_chemistry.dataset.parsers.data_frame_parser:parse(), type: ValueError, ('`out_size` (=40) must be negative or larger than or equal to the number of atoms in the input molecules (=49).',)\n",
      "INFO:chainer_chemistry.dataset.parsers.data_frame_parser:Traceback (most recent call last):\n",
      "  File \"/home/nsdey/anaconda3/lib/python3.7/site-packages/chainer_chemistry/dataset/parsers/data_frame_parser.py\", line 104, in parse\n",
      "    input_features = pp.get_input_features(mol)\n",
      "  File \"/home/nsdey/anaconda3/lib/python3.7/site-packages/chainer_chemistry/dataset/preprocessors/nfp_preprocessor.py\", line 47, in get_input_features\n",
      "    atom_array = construct_atomic_number_array(mol, out_size=self.out_size)\n",
      "  File \"/home/nsdey/anaconda3/lib/python3.7/site-packages/chainer_chemistry/dataset/preprocessors/common.py\", line 66, in construct_atomic_number_array\n",
      "    '.'.format(out_size, n_atom))\n",
      "ValueError: `out_size` (=40) must be negative or larger than or equal to the number of atoms in the input molecules (=49).\n",
      "\n",
      "WARNING:chainer_chemistry.dataset.parsers.data_frame_parser:parse(), type: ValueError, ('`out_size` (=40) must be negative or larger than or equal to the number of atoms in the input molecules (=65).',)\n",
      "INFO:chainer_chemistry.dataset.parsers.data_frame_parser:Traceback (most recent call last):\n",
      "  File \"/home/nsdey/anaconda3/lib/python3.7/site-packages/chainer_chemistry/dataset/parsers/data_frame_parser.py\", line 104, in parse\n",
      "    input_features = pp.get_input_features(mol)\n",
      "  File \"/home/nsdey/anaconda3/lib/python3.7/site-packages/chainer_chemistry/dataset/preprocessors/nfp_preprocessor.py\", line 47, in get_input_features\n",
      "    atom_array = construct_atomic_number_array(mol, out_size=self.out_size)\n",
      "  File \"/home/nsdey/anaconda3/lib/python3.7/site-packages/chainer_chemistry/dataset/preprocessors/common.py\", line 66, in construct_atomic_number_array\n",
      "    '.'.format(out_size, n_atom))\n",
      "ValueError: `out_size` (=40) must be negative or larger than or equal to the number of atoms in the input molecules (=65).\n",
      "\n",
      " 17%|█▋        | 350/2050 [00:00<00:01, 1167.54it/s]WARNING:chainer_chemistry.dataset.parsers.data_frame_parser:parse(), type: ValueError, ('`out_size` (=40) must be negative or larger than or equal to the number of atoms in the input molecules (=46).',)\n",
      "INFO:chainer_chemistry.dataset.parsers.data_frame_parser:Traceback (most recent call last):\n",
      "  File \"/home/nsdey/anaconda3/lib/python3.7/site-packages/chainer_chemistry/dataset/parsers/data_frame_parser.py\", line 104, in parse\n",
      "    input_features = pp.get_input_features(mol)\n",
      "  File \"/home/nsdey/anaconda3/lib/python3.7/site-packages/chainer_chemistry/dataset/preprocessors/nfp_preprocessor.py\", line 47, in get_input_features\n",
      "    atom_array = construct_atomic_number_array(mol, out_size=self.out_size)\n",
      "  File \"/home/nsdey/anaconda3/lib/python3.7/site-packages/chainer_chemistry/dataset/preprocessors/common.py\", line 66, in construct_atomic_number_array\n",
      "    '.'.format(out_size, n_atom))\n",
      "ValueError: `out_size` (=40) must be negative or larger than or equal to the number of atoms in the input molecules (=46).\n",
      "\n",
      "WARNING:chainer_chemistry.dataset.parsers.data_frame_parser:parse(), type: ValueError, ('`out_size` (=40) must be negative or larger than or equal to the number of atoms in the input molecules (=101).',)\n",
      "INFO:chainer_chemistry.dataset.parsers.data_frame_parser:Traceback (most recent call last):\n",
      "  File \"/home/nsdey/anaconda3/lib/python3.7/site-packages/chainer_chemistry/dataset/parsers/data_frame_parser.py\", line 104, in parse\n",
      "    input_features = pp.get_input_features(mol)\n",
      "  File \"/home/nsdey/anaconda3/lib/python3.7/site-packages/chainer_chemistry/dataset/preprocessors/nfp_preprocessor.py\", line 47, in get_input_features\n",
      "    atom_array = construct_atomic_number_array(mol, out_size=self.out_size)\n",
      "  File \"/home/nsdey/anaconda3/lib/python3.7/site-packages/chainer_chemistry/dataset/preprocessors/common.py\", line 66, in construct_atomic_number_array\n",
      "    '.'.format(out_size, n_atom))\n",
      "ValueError: `out_size` (=40) must be negative or larger than or equal to the number of atoms in the input molecules (=101).\n",
      "\n",
      "WARNING:chainer_chemistry.dataset.parsers.data_frame_parser:parse(), type: ValueError, ('`out_size` (=40) must be negative or larger than or equal to the number of atoms in the input molecules (=43).',)\n",
      "INFO:chainer_chemistry.dataset.parsers.data_frame_parser:Traceback (most recent call last):\n",
      "  File \"/home/nsdey/anaconda3/lib/python3.7/site-packages/chainer_chemistry/dataset/parsers/data_frame_parser.py\", line 104, in parse\n",
      "    input_features = pp.get_input_features(mol)\n",
      "  File \"/home/nsdey/anaconda3/lib/python3.7/site-packages/chainer_chemistry/dataset/preprocessors/nfp_preprocessor.py\", line 47, in get_input_features\n",
      "    atom_array = construct_atomic_number_array(mol, out_size=self.out_size)\n",
      "  File \"/home/nsdey/anaconda3/lib/python3.7/site-packages/chainer_chemistry/dataset/preprocessors/common.py\", line 66, in construct_atomic_number_array\n",
      "    '.'.format(out_size, n_atom))\n",
      "ValueError: `out_size` (=40) must be negative or larger than or equal to the number of atoms in the input molecules (=43).\n",
      "\n",
      "WARNING:chainer_chemistry.dataset.parsers.data_frame_parser:parse(), type: ValueError, ('`out_size` (=40) must be negative or larger than or equal to the number of atoms in the input molecules (=59).',)\n",
      "INFO:chainer_chemistry.dataset.parsers.data_frame_parser:Traceback (most recent call last):\n",
      "  File \"/home/nsdey/anaconda3/lib/python3.7/site-packages/chainer_chemistry/dataset/parsers/data_frame_parser.py\", line 104, in parse\n",
      "    input_features = pp.get_input_features(mol)\n",
      "  File \"/home/nsdey/anaconda3/lib/python3.7/site-packages/chainer_chemistry/dataset/preprocessors/nfp_preprocessor.py\", line 47, in get_input_features\n",
      "    atom_array = construct_atomic_number_array(mol, out_size=self.out_size)\n",
      "  File \"/home/nsdey/anaconda3/lib/python3.7/site-packages/chainer_chemistry/dataset/preprocessors/common.py\", line 66, in construct_atomic_number_array\n",
      "    '.'.format(out_size, n_atom))\n",
      "ValueError: `out_size` (=40) must be negative or larger than or equal to the number of atoms in the input molecules (=59).\n",
      "\n",
      "WARNING:chainer_chemistry.dataset.parsers.data_frame_parser:parse(), type: ValueError, ('`out_size` (=40) must be negative or larger than or equal to the number of atoms in the input molecules (=78).',)\n",
      "INFO:chainer_chemistry.dataset.parsers.data_frame_parser:Traceback (most recent call last):\n",
      "  File \"/home/nsdey/anaconda3/lib/python3.7/site-packages/chainer_chemistry/dataset/parsers/data_frame_parser.py\", line 104, in parse\n",
      "    input_features = pp.get_input_features(mol)\n",
      "  File \"/home/nsdey/anaconda3/lib/python3.7/site-packages/chainer_chemistry/dataset/preprocessors/nfp_preprocessor.py\", line 47, in get_input_features\n",
      "    atom_array = construct_atomic_number_array(mol, out_size=self.out_size)\n",
      "  File \"/home/nsdey/anaconda3/lib/python3.7/site-packages/chainer_chemistry/dataset/preprocessors/common.py\", line 66, in construct_atomic_number_array\n",
      "    '.'.format(out_size, n_atom))\n",
      "ValueError: `out_size` (=40) must be negative or larger than or equal to the number of atoms in the input molecules (=78).\n",
      "\n",
      " 23%|██▎       | 480/2050 [00:00<00:01, 1203.34it/s]WARNING:chainer_chemistry.dataset.parsers.data_frame_parser:parse(), type: ValueError, ('`out_size` (=40) must be negative or larger than or equal to the number of atoms in the input molecules (=45).',)\n"
     ]
    },
    {
     "name": "stderr",
     "output_type": "stream",
     "text": [
      "INFO:chainer_chemistry.dataset.parsers.data_frame_parser:Traceback (most recent call last):\n",
      "  File \"/home/nsdey/anaconda3/lib/python3.7/site-packages/chainer_chemistry/dataset/parsers/data_frame_parser.py\", line 104, in parse\n",
      "    input_features = pp.get_input_features(mol)\n",
      "  File \"/home/nsdey/anaconda3/lib/python3.7/site-packages/chainer_chemistry/dataset/preprocessors/nfp_preprocessor.py\", line 47, in get_input_features\n",
      "    atom_array = construct_atomic_number_array(mol, out_size=self.out_size)\n",
      "  File \"/home/nsdey/anaconda3/lib/python3.7/site-packages/chainer_chemistry/dataset/preprocessors/common.py\", line 66, in construct_atomic_number_array\n",
      "    '.'.format(out_size, n_atom))\n",
      "ValueError: `out_size` (=40) must be negative or larger than or equal to the number of atoms in the input molecules (=45).\n",
      "\n",
      "WARNING:chainer_chemistry.dataset.parsers.data_frame_parser:parse(), type: ValueError, ('`out_size` (=40) must be negative or larger than or equal to the number of atoms in the input molecules (=42).',)\n",
      "INFO:chainer_chemistry.dataset.parsers.data_frame_parser:Traceback (most recent call last):\n",
      "  File \"/home/nsdey/anaconda3/lib/python3.7/site-packages/chainer_chemistry/dataset/parsers/data_frame_parser.py\", line 104, in parse\n",
      "    input_features = pp.get_input_features(mol)\n",
      "  File \"/home/nsdey/anaconda3/lib/python3.7/site-packages/chainer_chemistry/dataset/preprocessors/nfp_preprocessor.py\", line 47, in get_input_features\n",
      "    atom_array = construct_atomic_number_array(mol, out_size=self.out_size)\n",
      "  File \"/home/nsdey/anaconda3/lib/python3.7/site-packages/chainer_chemistry/dataset/preprocessors/common.py\", line 66, in construct_atomic_number_array\n",
      "    '.'.format(out_size, n_atom))\n",
      "ValueError: `out_size` (=40) must be negative or larger than or equal to the number of atoms in the input molecules (=42).\n",
      "\n",
      " 30%|███       | 621/2050 [00:00<00:01, 1256.45it/s]WARNING:chainer_chemistry.dataset.parsers.data_frame_parser:parse(), type: ValueError, ('`out_size` (=40) must be negative or larger than or equal to the number of atoms in the input molecules (=44).',)\n",
      "INFO:chainer_chemistry.dataset.parsers.data_frame_parser:Traceback (most recent call last):\n",
      "  File \"/home/nsdey/anaconda3/lib/python3.7/site-packages/chainer_chemistry/dataset/parsers/data_frame_parser.py\", line 104, in parse\n",
      "    input_features = pp.get_input_features(mol)\n",
      "  File \"/home/nsdey/anaconda3/lib/python3.7/site-packages/chainer_chemistry/dataset/preprocessors/nfp_preprocessor.py\", line 47, in get_input_features\n",
      "    atom_array = construct_atomic_number_array(mol, out_size=self.out_size)\n",
      "  File \"/home/nsdey/anaconda3/lib/python3.7/site-packages/chainer_chemistry/dataset/preprocessors/common.py\", line 66, in construct_atomic_number_array\n",
      "    '.'.format(out_size, n_atom))\n",
      "ValueError: `out_size` (=40) must be negative or larger than or equal to the number of atoms in the input molecules (=44).\n",
      "\n",
      "WARNING:chainer_chemistry.dataset.parsers.data_frame_parser:parse(), type: ValueError, ('`out_size` (=40) must be negative or larger than or equal to the number of atoms in the input molecules (=41).',)\n",
      "INFO:chainer_chemistry.dataset.parsers.data_frame_parser:Traceback (most recent call last):\n",
      "  File \"/home/nsdey/anaconda3/lib/python3.7/site-packages/chainer_chemistry/dataset/parsers/data_frame_parser.py\", line 104, in parse\n",
      "    input_features = pp.get_input_features(mol)\n",
      "  File \"/home/nsdey/anaconda3/lib/python3.7/site-packages/chainer_chemistry/dataset/preprocessors/nfp_preprocessor.py\", line 47, in get_input_features\n",
      "    atom_array = construct_atomic_number_array(mol, out_size=self.out_size)\n",
      "  File \"/home/nsdey/anaconda3/lib/python3.7/site-packages/chainer_chemistry/dataset/preprocessors/common.py\", line 66, in construct_atomic_number_array\n",
      "    '.'.format(out_size, n_atom))\n",
      "ValueError: `out_size` (=40) must be negative or larger than or equal to the number of atoms in the input molecules (=41).\n",
      "\n",
      "WARNING:chainer_chemistry.dataset.parsers.data_frame_parser:parse(), type: ValueError, ('`out_size` (=40) must be negative or larger than or equal to the number of atoms in the input molecules (=43).',)\n",
      "INFO:chainer_chemistry.dataset.parsers.data_frame_parser:Traceback (most recent call last):\n",
      "  File \"/home/nsdey/anaconda3/lib/python3.7/site-packages/chainer_chemistry/dataset/parsers/data_frame_parser.py\", line 104, in parse\n",
      "    input_features = pp.get_input_features(mol)\n",
      "  File \"/home/nsdey/anaconda3/lib/python3.7/site-packages/chainer_chemistry/dataset/preprocessors/nfp_preprocessor.py\", line 47, in get_input_features\n",
      "    atom_array = construct_atomic_number_array(mol, out_size=self.out_size)\n",
      "  File \"/home/nsdey/anaconda3/lib/python3.7/site-packages/chainer_chemistry/dataset/preprocessors/common.py\", line 66, in construct_atomic_number_array\n",
      "    '.'.format(out_size, n_atom))\n",
      "ValueError: `out_size` (=40) must be negative or larger than or equal to the number of atoms in the input molecules (=43).\n",
      "\n",
      "WARNING:chainer_chemistry.dataset.parsers.data_frame_parser:parse(), type: ValueError, ('`out_size` (=40) must be negative or larger than or equal to the number of atoms in the input molecules (=58).',)\n",
      "INFO:chainer_chemistry.dataset.parsers.data_frame_parser:Traceback (most recent call last):\n",
      "  File \"/home/nsdey/anaconda3/lib/python3.7/site-packages/chainer_chemistry/dataset/parsers/data_frame_parser.py\", line 104, in parse\n",
      "    input_features = pp.get_input_features(mol)\n",
      "  File \"/home/nsdey/anaconda3/lib/python3.7/site-packages/chainer_chemistry/dataset/preprocessors/nfp_preprocessor.py\", line 47, in get_input_features\n",
      "    atom_array = construct_atomic_number_array(mol, out_size=self.out_size)\n",
      "  File \"/home/nsdey/anaconda3/lib/python3.7/site-packages/chainer_chemistry/dataset/preprocessors/common.py\", line 66, in construct_atomic_number_array\n",
      "    '.'.format(out_size, n_atom))\n",
      "ValueError: `out_size` (=40) must be negative or larger than or equal to the number of atoms in the input molecules (=58).\n",
      "\n",
      "WARNING:chainer_chemistry.dataset.parsers.data_frame_parser:parse(), type: ValueError, ('`out_size` (=40) must be negative or larger than or equal to the number of atoms in the input molecules (=45).',)\n",
      "INFO:chainer_chemistry.dataset.parsers.data_frame_parser:Traceback (most recent call last):\n",
      "  File \"/home/nsdey/anaconda3/lib/python3.7/site-packages/chainer_chemistry/dataset/parsers/data_frame_parser.py\", line 104, in parse\n",
      "    input_features = pp.get_input_features(mol)\n",
      "  File \"/home/nsdey/anaconda3/lib/python3.7/site-packages/chainer_chemistry/dataset/preprocessors/nfp_preprocessor.py\", line 47, in get_input_features\n",
      "    atom_array = construct_atomic_number_array(mol, out_size=self.out_size)\n",
      "  File \"/home/nsdey/anaconda3/lib/python3.7/site-packages/chainer_chemistry/dataset/preprocessors/common.py\", line 66, in construct_atomic_number_array\n",
      "    '.'.format(out_size, n_atom))\n",
      "ValueError: `out_size` (=40) must be negative or larger than or equal to the number of atoms in the input molecules (=45).\n",
      "\n",
      " 36%|███▋      | 747/2050 [00:00<00:01, 1256.04it/s]WARNING:chainer_chemistry.dataset.parsers.data_frame_parser:parse(), type: ValueError, ('`out_size` (=40) must be negative or larger than or equal to the number of atoms in the input molecules (=50).',)\n",
      "INFO:chainer_chemistry.dataset.parsers.data_frame_parser:Traceback (most recent call last):\n",
      "  File \"/home/nsdey/anaconda3/lib/python3.7/site-packages/chainer_chemistry/dataset/parsers/data_frame_parser.py\", line 104, in parse\n",
      "    input_features = pp.get_input_features(mol)\n",
      "  File \"/home/nsdey/anaconda3/lib/python3.7/site-packages/chainer_chemistry/dataset/preprocessors/nfp_preprocessor.py\", line 47, in get_input_features\n",
      "    atom_array = construct_atomic_number_array(mol, out_size=self.out_size)\n",
      "  File \"/home/nsdey/anaconda3/lib/python3.7/site-packages/chainer_chemistry/dataset/preprocessors/common.py\", line 66, in construct_atomic_number_array\n",
      "    '.'.format(out_size, n_atom))\n",
      "ValueError: `out_size` (=40) must be negative or larger than or equal to the number of atoms in the input molecules (=50).\n",
      "\n",
      "WARNING:chainer_chemistry.dataset.parsers.data_frame_parser:parse(), type: ValueError, ('`out_size` (=40) must be negative or larger than or equal to the number of atoms in the input molecules (=44).',)\n"
     ]
    },
    {
     "name": "stderr",
     "output_type": "stream",
     "text": [
      "INFO:chainer_chemistry.dataset.parsers.data_frame_parser:Traceback (most recent call last):\n",
      "  File \"/home/nsdey/anaconda3/lib/python3.7/site-packages/chainer_chemistry/dataset/parsers/data_frame_parser.py\", line 104, in parse\n",
      "    input_features = pp.get_input_features(mol)\n",
      "  File \"/home/nsdey/anaconda3/lib/python3.7/site-packages/chainer_chemistry/dataset/preprocessors/nfp_preprocessor.py\", line 47, in get_input_features\n",
      "    atom_array = construct_atomic_number_array(mol, out_size=self.out_size)\n",
      "  File \"/home/nsdey/anaconda3/lib/python3.7/site-packages/chainer_chemistry/dataset/preprocessors/common.py\", line 66, in construct_atomic_number_array\n",
      "    '.'.format(out_size, n_atom))\n",
      "ValueError: `out_size` (=40) must be negative or larger than or equal to the number of atoms in the input molecules (=44).\n",
      "\n",
      "WARNING:chainer_chemistry.dataset.parsers.data_frame_parser:parse(), type: ValueError, ('`out_size` (=40) must be negative or larger than or equal to the number of atoms in the input molecules (=42).',)\n",
      "INFO:chainer_chemistry.dataset.parsers.data_frame_parser:Traceback (most recent call last):\n",
      "  File \"/home/nsdey/anaconda3/lib/python3.7/site-packages/chainer_chemistry/dataset/parsers/data_frame_parser.py\", line 104, in parse\n",
      "    input_features = pp.get_input_features(mol)\n",
      "  File \"/home/nsdey/anaconda3/lib/python3.7/site-packages/chainer_chemistry/dataset/preprocessors/nfp_preprocessor.py\", line 47, in get_input_features\n",
      "    atom_array = construct_atomic_number_array(mol, out_size=self.out_size)\n",
      "  File \"/home/nsdey/anaconda3/lib/python3.7/site-packages/chainer_chemistry/dataset/preprocessors/common.py\", line 66, in construct_atomic_number_array\n",
      "    '.'.format(out_size, n_atom))\n",
      "ValueError: `out_size` (=40) must be negative or larger than or equal to the number of atoms in the input molecules (=42).\n",
      "\n",
      "WARNING:chainer_chemistry.dataset.parsers.data_frame_parser:parse(), type: ValueError, ('`out_size` (=40) must be negative or larger than or equal to the number of atoms in the input molecules (=52).',)\n",
      "INFO:chainer_chemistry.dataset.parsers.data_frame_parser:Traceback (most recent call last):\n",
      "  File \"/home/nsdey/anaconda3/lib/python3.7/site-packages/chainer_chemistry/dataset/parsers/data_frame_parser.py\", line 104, in parse\n",
      "    input_features = pp.get_input_features(mol)\n",
      "  File \"/home/nsdey/anaconda3/lib/python3.7/site-packages/chainer_chemistry/dataset/preprocessors/nfp_preprocessor.py\", line 47, in get_input_features\n",
      "    atom_array = construct_atomic_number_array(mol, out_size=self.out_size)\n",
      "  File \"/home/nsdey/anaconda3/lib/python3.7/site-packages/chainer_chemistry/dataset/preprocessors/common.py\", line 66, in construct_atomic_number_array\n",
      "    '.'.format(out_size, n_atom))\n",
      "ValueError: `out_size` (=40) must be negative or larger than or equal to the number of atoms in the input molecules (=52).\n",
      "\n",
      "WARNING:chainer_chemistry.dataset.parsers.data_frame_parser:parse(), type: ValueError, ('`out_size` (=40) must be negative or larger than or equal to the number of atoms in the input molecules (=85).',)\n",
      "INFO:chainer_chemistry.dataset.parsers.data_frame_parser:Traceback (most recent call last):\n",
      "  File \"/home/nsdey/anaconda3/lib/python3.7/site-packages/chainer_chemistry/dataset/parsers/data_frame_parser.py\", line 104, in parse\n",
      "    input_features = pp.get_input_features(mol)\n",
      "  File \"/home/nsdey/anaconda3/lib/python3.7/site-packages/chainer_chemistry/dataset/preprocessors/nfp_preprocessor.py\", line 47, in get_input_features\n",
      "    atom_array = construct_atomic_number_array(mol, out_size=self.out_size)\n",
      "  File \"/home/nsdey/anaconda3/lib/python3.7/site-packages/chainer_chemistry/dataset/preprocessors/common.py\", line 66, in construct_atomic_number_array\n",
      "    '.'.format(out_size, n_atom))\n",
      "ValueError: `out_size` (=40) must be negative or larger than or equal to the number of atoms in the input molecules (=85).\n",
      "\n",
      "WARNING:chainer_chemistry.dataset.parsers.data_frame_parser:parse(), type: ValueError, ('`out_size` (=40) must be negative or larger than or equal to the number of atoms in the input molecules (=90).',)\n",
      "INFO:chainer_chemistry.dataset.parsers.data_frame_parser:Traceback (most recent call last):\n",
      "  File \"/home/nsdey/anaconda3/lib/python3.7/site-packages/chainer_chemistry/dataset/parsers/data_frame_parser.py\", line 104, in parse\n",
      "    input_features = pp.get_input_features(mol)\n",
      "  File \"/home/nsdey/anaconda3/lib/python3.7/site-packages/chainer_chemistry/dataset/preprocessors/nfp_preprocessor.py\", line 47, in get_input_features\n",
      "    atom_array = construct_atomic_number_array(mol, out_size=self.out_size)\n",
      "  File \"/home/nsdey/anaconda3/lib/python3.7/site-packages/chainer_chemistry/dataset/preprocessors/common.py\", line 66, in construct_atomic_number_array\n",
      "    '.'.format(out_size, n_atom))\n",
      "ValueError: `out_size` (=40) must be negative or larger than or equal to the number of atoms in the input molecules (=90).\n",
      "\n",
      "WARNING:chainer_chemistry.dataset.parsers.data_frame_parser:parse(), type: ValueError, ('`out_size` (=40) must be negative or larger than or equal to the number of atoms in the input molecules (=48).',)\n",
      "INFO:chainer_chemistry.dataset.parsers.data_frame_parser:Traceback (most recent call last):\n",
      "  File \"/home/nsdey/anaconda3/lib/python3.7/site-packages/chainer_chemistry/dataset/parsers/data_frame_parser.py\", line 104, in parse\n",
      "    input_features = pp.get_input_features(mol)\n",
      "  File \"/home/nsdey/anaconda3/lib/python3.7/site-packages/chainer_chemistry/dataset/preprocessors/nfp_preprocessor.py\", line 47, in get_input_features\n",
      "    atom_array = construct_atomic_number_array(mol, out_size=self.out_size)\n",
      "  File \"/home/nsdey/anaconda3/lib/python3.7/site-packages/chainer_chemistry/dataset/preprocessors/common.py\", line 66, in construct_atomic_number_array\n",
      "    '.'.format(out_size, n_atom))\n",
      "ValueError: `out_size` (=40) must be negative or larger than or equal to the number of atoms in the input molecules (=48).\n",
      "\n",
      "WARNING:chainer_chemistry.dataset.parsers.data_frame_parser:parse(), type: ValueError, ('`out_size` (=40) must be negative or larger than or equal to the number of atoms in the input molecules (=43).',)\n",
      "INFO:chainer_chemistry.dataset.parsers.data_frame_parser:Traceback (most recent call last):\n",
      "  File \"/home/nsdey/anaconda3/lib/python3.7/site-packages/chainer_chemistry/dataset/parsers/data_frame_parser.py\", line 104, in parse\n",
      "    input_features = pp.get_input_features(mol)\n",
      "  File \"/home/nsdey/anaconda3/lib/python3.7/site-packages/chainer_chemistry/dataset/preprocessors/nfp_preprocessor.py\", line 47, in get_input_features\n",
      "    atom_array = construct_atomic_number_array(mol, out_size=self.out_size)\n",
      "  File \"/home/nsdey/anaconda3/lib/python3.7/site-packages/chainer_chemistry/dataset/preprocessors/common.py\", line 66, in construct_atomic_number_array\n",
      "    '.'.format(out_size, n_atom))\n",
      "ValueError: `out_size` (=40) must be negative or larger than or equal to the number of atoms in the input molecules (=43).\n",
      "\n",
      "WARNING:chainer_chemistry.dataset.parsers.data_frame_parser:parse(), type: ValueError, ('`out_size` (=40) must be negative or larger than or equal to the number of atoms in the input molecules (=56).',)\n",
      "INFO:chainer_chemistry.dataset.parsers.data_frame_parser:Traceback (most recent call last):\n",
      "  File \"/home/nsdey/anaconda3/lib/python3.7/site-packages/chainer_chemistry/dataset/parsers/data_frame_parser.py\", line 104, in parse\n",
      "    input_features = pp.get_input_features(mol)\n",
      "  File \"/home/nsdey/anaconda3/lib/python3.7/site-packages/chainer_chemistry/dataset/preprocessors/nfp_preprocessor.py\", line 47, in get_input_features\n",
      "    atom_array = construct_atomic_number_array(mol, out_size=self.out_size)\n",
      "  File \"/home/nsdey/anaconda3/lib/python3.7/site-packages/chainer_chemistry/dataset/preprocessors/common.py\", line 66, in construct_atomic_number_array\n",
      "    '.'.format(out_size, n_atom))\n",
      "ValueError: `out_size` (=40) must be negative or larger than or equal to the number of atoms in the input molecules (=56).\n",
      "\n",
      "WARNING:chainer_chemistry.dataset.parsers.data_frame_parser:parse(), type: ValueError, ('`out_size` (=40) must be negative or larger than or equal to the number of atoms in the input molecules (=58).',)\n",
      "INFO:chainer_chemistry.dataset.parsers.data_frame_parser:Traceback (most recent call last):\n",
      "  File \"/home/nsdey/anaconda3/lib/python3.7/site-packages/chainer_chemistry/dataset/parsers/data_frame_parser.py\", line 104, in parse\n",
      "    input_features = pp.get_input_features(mol)\n",
      "  File \"/home/nsdey/anaconda3/lib/python3.7/site-packages/chainer_chemistry/dataset/preprocessors/nfp_preprocessor.py\", line 47, in get_input_features\n",
      "    atom_array = construct_atomic_number_array(mol, out_size=self.out_size)\n",
      "  File \"/home/nsdey/anaconda3/lib/python3.7/site-packages/chainer_chemistry/dataset/preprocessors/common.py\", line 66, in construct_atomic_number_array\n",
      "    '.'.format(out_size, n_atom))\n",
      "ValueError: `out_size` (=40) must be negative or larger than or equal to the number of atoms in the input molecules (=58).\n",
      "\n"
     ]
    },
    {
     "name": "stderr",
     "output_type": "stream",
     "text": [
      "WARNING:chainer_chemistry.dataset.parsers.data_frame_parser:parse(), type: ValueError, ('`out_size` (=40) must be negative or larger than or equal to the number of atoms in the input molecules (=58).',)\n",
      "INFO:chainer_chemistry.dataset.parsers.data_frame_parser:Traceback (most recent call last):\n",
      "  File \"/home/nsdey/anaconda3/lib/python3.7/site-packages/chainer_chemistry/dataset/parsers/data_frame_parser.py\", line 104, in parse\n",
      "    input_features = pp.get_input_features(mol)\n",
      "  File \"/home/nsdey/anaconda3/lib/python3.7/site-packages/chainer_chemistry/dataset/preprocessors/nfp_preprocessor.py\", line 47, in get_input_features\n",
      "    atom_array = construct_atomic_number_array(mol, out_size=self.out_size)\n",
      "  File \"/home/nsdey/anaconda3/lib/python3.7/site-packages/chainer_chemistry/dataset/preprocessors/common.py\", line 66, in construct_atomic_number_array\n",
      "    '.'.format(out_size, n_atom))\n",
      "ValueError: `out_size` (=40) must be negative or larger than or equal to the number of atoms in the input molecules (=58).\n",
      "\n",
      "WARNING:chainer_chemistry.dataset.parsers.data_frame_parser:parse(), type: ValueError, ('`out_size` (=40) must be negative or larger than or equal to the number of atoms in the input molecules (=81).',)\n",
      "INFO:chainer_chemistry.dataset.parsers.data_frame_parser:Traceback (most recent call last):\n",
      "  File \"/home/nsdey/anaconda3/lib/python3.7/site-packages/chainer_chemistry/dataset/parsers/data_frame_parser.py\", line 104, in parse\n",
      "    input_features = pp.get_input_features(mol)\n",
      "  File \"/home/nsdey/anaconda3/lib/python3.7/site-packages/chainer_chemistry/dataset/preprocessors/nfp_preprocessor.py\", line 47, in get_input_features\n",
      "    atom_array = construct_atomic_number_array(mol, out_size=self.out_size)\n",
      "  File \"/home/nsdey/anaconda3/lib/python3.7/site-packages/chainer_chemistry/dataset/preprocessors/common.py\", line 66, in construct_atomic_number_array\n",
      "    '.'.format(out_size, n_atom))\n",
      "ValueError: `out_size` (=40) must be negative or larger than or equal to the number of atoms in the input molecules (=81).\n",
      "\n",
      "WARNING:chainer_chemistry.dataset.parsers.data_frame_parser:parse(), type: ValueError, ('`out_size` (=40) must be negative or larger than or equal to the number of atoms in the input molecules (=123).',)\n",
      "INFO:chainer_chemistry.dataset.parsers.data_frame_parser:Traceback (most recent call last):\n",
      "  File \"/home/nsdey/anaconda3/lib/python3.7/site-packages/chainer_chemistry/dataset/parsers/data_frame_parser.py\", line 104, in parse\n",
      "    input_features = pp.get_input_features(mol)\n",
      "  File \"/home/nsdey/anaconda3/lib/python3.7/site-packages/chainer_chemistry/dataset/preprocessors/nfp_preprocessor.py\", line 47, in get_input_features\n",
      "    atom_array = construct_atomic_number_array(mol, out_size=self.out_size)\n",
      "  File \"/home/nsdey/anaconda3/lib/python3.7/site-packages/chainer_chemistry/dataset/preprocessors/common.py\", line 66, in construct_atomic_number_array\n",
      "    '.'.format(out_size, n_atom))\n",
      "ValueError: `out_size` (=40) must be negative or larger than or equal to the number of atoms in the input molecules (=123).\n",
      "\n",
      "WARNING:chainer_chemistry.dataset.parsers.data_frame_parser:parse(), type: ValueError, ('`out_size` (=40) must be negative or larger than or equal to the number of atoms in the input molecules (=72).',)\n",
      "INFO:chainer_chemistry.dataset.parsers.data_frame_parser:Traceback (most recent call last):\n",
      "  File \"/home/nsdey/anaconda3/lib/python3.7/site-packages/chainer_chemistry/dataset/parsers/data_frame_parser.py\", line 104, in parse\n",
      "    input_features = pp.get_input_features(mol)\n",
      "  File \"/home/nsdey/anaconda3/lib/python3.7/site-packages/chainer_chemistry/dataset/preprocessors/nfp_preprocessor.py\", line 47, in get_input_features\n",
      "    atom_array = construct_atomic_number_array(mol, out_size=self.out_size)\n",
      "  File \"/home/nsdey/anaconda3/lib/python3.7/site-packages/chainer_chemistry/dataset/preprocessors/common.py\", line 66, in construct_atomic_number_array\n",
      "    '.'.format(out_size, n_atom))\n",
      "ValueError: `out_size` (=40) must be negative or larger than or equal to the number of atoms in the input molecules (=72).\n",
      "\n",
      "WARNING:chainer_chemistry.dataset.parsers.data_frame_parser:parse(), type: ValueError, ('`out_size` (=40) must be negative or larger than or equal to the number of atoms in the input molecules (=52).',)\n",
      "INFO:chainer_chemistry.dataset.parsers.data_frame_parser:Traceback (most recent call last):\n",
      "  File \"/home/nsdey/anaconda3/lib/python3.7/site-packages/chainer_chemistry/dataset/parsers/data_frame_parser.py\", line 104, in parse\n",
      "    input_features = pp.get_input_features(mol)\n",
      "  File \"/home/nsdey/anaconda3/lib/python3.7/site-packages/chainer_chemistry/dataset/preprocessors/nfp_preprocessor.py\", line 47, in get_input_features\n",
      "    atom_array = construct_atomic_number_array(mol, out_size=self.out_size)\n",
      "  File \"/home/nsdey/anaconda3/lib/python3.7/site-packages/chainer_chemistry/dataset/preprocessors/common.py\", line 66, in construct_atomic_number_array\n",
      "    '.'.format(out_size, n_atom))\n",
      "ValueError: `out_size` (=40) must be negative or larger than or equal to the number of atoms in the input molecules (=52).\n",
      "\n",
      "WARNING:chainer_chemistry.dataset.parsers.data_frame_parser:parse(), type: ValueError, ('`out_size` (=40) must be negative or larger than or equal to the number of atoms in the input molecules (=82).',)\n",
      "INFO:chainer_chemistry.dataset.parsers.data_frame_parser:Traceback (most recent call last):\n",
      "  File \"/home/nsdey/anaconda3/lib/python3.7/site-packages/chainer_chemistry/dataset/parsers/data_frame_parser.py\", line 104, in parse\n",
      "    input_features = pp.get_input_features(mol)\n",
      "  File \"/home/nsdey/anaconda3/lib/python3.7/site-packages/chainer_chemistry/dataset/preprocessors/nfp_preprocessor.py\", line 47, in get_input_features\n",
      "    atom_array = construct_atomic_number_array(mol, out_size=self.out_size)\n",
      "  File \"/home/nsdey/anaconda3/lib/python3.7/site-packages/chainer_chemistry/dataset/preprocessors/common.py\", line 66, in construct_atomic_number_array\n",
      "    '.'.format(out_size, n_atom))\n",
      "ValueError: `out_size` (=40) must be negative or larger than or equal to the number of atoms in the input molecules (=82).\n",
      "\n",
      "WARNING:chainer_chemistry.dataset.parsers.data_frame_parser:parse(), type: ValueError, ('`out_size` (=40) must be negative or larger than or equal to the number of atoms in the input molecules (=45).',)\n",
      "INFO:chainer_chemistry.dataset.parsers.data_frame_parser:Traceback (most recent call last):\n",
      "  File \"/home/nsdey/anaconda3/lib/python3.7/site-packages/chainer_chemistry/dataset/parsers/data_frame_parser.py\", line 104, in parse\n",
      "    input_features = pp.get_input_features(mol)\n",
      "  File \"/home/nsdey/anaconda3/lib/python3.7/site-packages/chainer_chemistry/dataset/preprocessors/nfp_preprocessor.py\", line 47, in get_input_features\n",
      "    atom_array = construct_atomic_number_array(mol, out_size=self.out_size)\n",
      "  File \"/home/nsdey/anaconda3/lib/python3.7/site-packages/chainer_chemistry/dataset/preprocessors/common.py\", line 66, in construct_atomic_number_array\n",
      "    '.'.format(out_size, n_atom))\n",
      "ValueError: `out_size` (=40) must be negative or larger than or equal to the number of atoms in the input molecules (=45).\n",
      "\n",
      "WARNING:chainer_chemistry.dataset.parsers.data_frame_parser:parse(), type: ValueError, ('`out_size` (=40) must be negative or larger than or equal to the number of atoms in the input molecules (=58).',)\n",
      "INFO:chainer_chemistry.dataset.parsers.data_frame_parser:Traceback (most recent call last):\n",
      "  File \"/home/nsdey/anaconda3/lib/python3.7/site-packages/chainer_chemistry/dataset/parsers/data_frame_parser.py\", line 104, in parse\n",
      "    input_features = pp.get_input_features(mol)\n",
      "  File \"/home/nsdey/anaconda3/lib/python3.7/site-packages/chainer_chemistry/dataset/preprocessors/nfp_preprocessor.py\", line 47, in get_input_features\n",
      "    atom_array = construct_atomic_number_array(mol, out_size=self.out_size)\n",
      "  File \"/home/nsdey/anaconda3/lib/python3.7/site-packages/chainer_chemistry/dataset/preprocessors/common.py\", line 66, in construct_atomic_number_array\n",
      "    '.'.format(out_size, n_atom))\n",
      "ValueError: `out_size` (=40) must be negative or larger than or equal to the number of atoms in the input molecules (=58).\n",
      "\n",
      "WARNING:chainer_chemistry.dataset.parsers.data_frame_parser:parse(), type: ValueError, ('`out_size` (=40) must be negative or larger than or equal to the number of atoms in the input molecules (=47).',)\n"
     ]
    },
    {
     "name": "stderr",
     "output_type": "stream",
     "text": [
      "INFO:chainer_chemistry.dataset.parsers.data_frame_parser:Traceback (most recent call last):\n",
      "  File \"/home/nsdey/anaconda3/lib/python3.7/site-packages/chainer_chemistry/dataset/parsers/data_frame_parser.py\", line 104, in parse\n",
      "    input_features = pp.get_input_features(mol)\n",
      "  File \"/home/nsdey/anaconda3/lib/python3.7/site-packages/chainer_chemistry/dataset/preprocessors/nfp_preprocessor.py\", line 47, in get_input_features\n",
      "    atom_array = construct_atomic_number_array(mol, out_size=self.out_size)\n",
      "  File \"/home/nsdey/anaconda3/lib/python3.7/site-packages/chainer_chemistry/dataset/preprocessors/common.py\", line 66, in construct_atomic_number_array\n",
      "    '.'.format(out_size, n_atom))\n",
      "ValueError: `out_size` (=40) must be negative or larger than or equal to the number of atoms in the input molecules (=47).\n",
      "\n",
      "WARNING:chainer_chemistry.dataset.parsers.data_frame_parser:parse(), type: ValueError, ('`out_size` (=40) must be negative or larger than or equal to the number of atoms in the input molecules (=53).',)\n",
      "INFO:chainer_chemistry.dataset.parsers.data_frame_parser:Traceback (most recent call last):\n",
      "  File \"/home/nsdey/anaconda3/lib/python3.7/site-packages/chainer_chemistry/dataset/parsers/data_frame_parser.py\", line 104, in parse\n",
      "    input_features = pp.get_input_features(mol)\n",
      "  File \"/home/nsdey/anaconda3/lib/python3.7/site-packages/chainer_chemistry/dataset/preprocessors/nfp_preprocessor.py\", line 47, in get_input_features\n",
      "    atom_array = construct_atomic_number_array(mol, out_size=self.out_size)\n",
      "  File \"/home/nsdey/anaconda3/lib/python3.7/site-packages/chainer_chemistry/dataset/preprocessors/common.py\", line 66, in construct_atomic_number_array\n",
      "    '.'.format(out_size, n_atom))\n",
      "ValueError: `out_size` (=40) must be negative or larger than or equal to the number of atoms in the input molecules (=53).\n",
      "\n",
      " 42%|████▏     | 860/2050 [00:00<00:01, 1006.81it/s]WARNING:chainer_chemistry.dataset.parsers.data_frame_parser:parse(), type: ValueError, ('`out_size` (=40) must be negative or larger than or equal to the number of atoms in the input molecules (=57).',)\n",
      "INFO:chainer_chemistry.dataset.parsers.data_frame_parser:Traceback (most recent call last):\n",
      "  File \"/home/nsdey/anaconda3/lib/python3.7/site-packages/chainer_chemistry/dataset/parsers/data_frame_parser.py\", line 104, in parse\n",
      "    input_features = pp.get_input_features(mol)\n",
      "  File \"/home/nsdey/anaconda3/lib/python3.7/site-packages/chainer_chemistry/dataset/preprocessors/nfp_preprocessor.py\", line 47, in get_input_features\n",
      "    atom_array = construct_atomic_number_array(mol, out_size=self.out_size)\n",
      "  File \"/home/nsdey/anaconda3/lib/python3.7/site-packages/chainer_chemistry/dataset/preprocessors/common.py\", line 66, in construct_atomic_number_array\n",
      "    '.'.format(out_size, n_atom))\n",
      "ValueError: `out_size` (=40) must be negative or larger than or equal to the number of atoms in the input molecules (=57).\n",
      "\n",
      "WARNING:chainer_chemistry.dataset.parsers.data_frame_parser:parse(), type: ValueError, ('`out_size` (=40) must be negative or larger than or equal to the number of atoms in the input molecules (=63).',)\n",
      "INFO:chainer_chemistry.dataset.parsers.data_frame_parser:Traceback (most recent call last):\n",
      "  File \"/home/nsdey/anaconda3/lib/python3.7/site-packages/chainer_chemistry/dataset/parsers/data_frame_parser.py\", line 104, in parse\n",
      "    input_features = pp.get_input_features(mol)\n",
      "  File \"/home/nsdey/anaconda3/lib/python3.7/site-packages/chainer_chemistry/dataset/preprocessors/nfp_preprocessor.py\", line 47, in get_input_features\n",
      "    atom_array = construct_atomic_number_array(mol, out_size=self.out_size)\n",
      "  File \"/home/nsdey/anaconda3/lib/python3.7/site-packages/chainer_chemistry/dataset/preprocessors/common.py\", line 66, in construct_atomic_number_array\n",
      "    '.'.format(out_size, n_atom))\n",
      "ValueError: `out_size` (=40) must be negative or larger than or equal to the number of atoms in the input molecules (=63).\n",
      "\n",
      "WARNING:chainer_chemistry.dataset.parsers.data_frame_parser:parse(), type: ValueError, ('`out_size` (=40) must be negative or larger than or equal to the number of atoms in the input molecules (=44).',)\n",
      "INFO:chainer_chemistry.dataset.parsers.data_frame_parser:Traceback (most recent call last):\n",
      "  File \"/home/nsdey/anaconda3/lib/python3.7/site-packages/chainer_chemistry/dataset/parsers/data_frame_parser.py\", line 104, in parse\n",
      "    input_features = pp.get_input_features(mol)\n",
      "  File \"/home/nsdey/anaconda3/lib/python3.7/site-packages/chainer_chemistry/dataset/preprocessors/nfp_preprocessor.py\", line 47, in get_input_features\n",
      "    atom_array = construct_atomic_number_array(mol, out_size=self.out_size)\n",
      "  File \"/home/nsdey/anaconda3/lib/python3.7/site-packages/chainer_chemistry/dataset/preprocessors/common.py\", line 66, in construct_atomic_number_array\n",
      "    '.'.format(out_size, n_atom))\n",
      "ValueError: `out_size` (=40) must be negative or larger than or equal to the number of atoms in the input molecules (=44).\n",
      "\n",
      "WARNING:chainer_chemistry.dataset.parsers.data_frame_parser:parse(), type: ValueError, ('`out_size` (=40) must be negative or larger than or equal to the number of atoms in the input molecules (=48).',)\n",
      "INFO:chainer_chemistry.dataset.parsers.data_frame_parser:Traceback (most recent call last):\n",
      "  File \"/home/nsdey/anaconda3/lib/python3.7/site-packages/chainer_chemistry/dataset/parsers/data_frame_parser.py\", line 104, in parse\n",
      "    input_features = pp.get_input_features(mol)\n",
      "  File \"/home/nsdey/anaconda3/lib/python3.7/site-packages/chainer_chemistry/dataset/preprocessors/nfp_preprocessor.py\", line 47, in get_input_features\n",
      "    atom_array = construct_atomic_number_array(mol, out_size=self.out_size)\n",
      "  File \"/home/nsdey/anaconda3/lib/python3.7/site-packages/chainer_chemistry/dataset/preprocessors/common.py\", line 66, in construct_atomic_number_array\n",
      "    '.'.format(out_size, n_atom))\n",
      "ValueError: `out_size` (=40) must be negative or larger than or equal to the number of atoms in the input molecules (=48).\n",
      "\n",
      "WARNING:chainer_chemistry.dataset.parsers.data_frame_parser:parse(), type: ValueError, ('`out_size` (=40) must be negative or larger than or equal to the number of atoms in the input molecules (=62).',)\n",
      "INFO:chainer_chemistry.dataset.parsers.data_frame_parser:Traceback (most recent call last):\n",
      "  File \"/home/nsdey/anaconda3/lib/python3.7/site-packages/chainer_chemistry/dataset/parsers/data_frame_parser.py\", line 104, in parse\n",
      "    input_features = pp.get_input_features(mol)\n",
      "  File \"/home/nsdey/anaconda3/lib/python3.7/site-packages/chainer_chemistry/dataset/preprocessors/nfp_preprocessor.py\", line 47, in get_input_features\n",
      "    atom_array = construct_atomic_number_array(mol, out_size=self.out_size)\n",
      "  File \"/home/nsdey/anaconda3/lib/python3.7/site-packages/chainer_chemistry/dataset/preprocessors/common.py\", line 66, in construct_atomic_number_array\n",
      "    '.'.format(out_size, n_atom))\n",
      "ValueError: `out_size` (=40) must be negative or larger than or equal to the number of atoms in the input molecules (=62).\n",
      "\n",
      "WARNING:chainer_chemistry.dataset.parsers.data_frame_parser:parse(), type: ValueError, ('`out_size` (=40) must be negative or larger than or equal to the number of atoms in the input molecules (=42).',)\n",
      "INFO:chainer_chemistry.dataset.parsers.data_frame_parser:Traceback (most recent call last):\n",
      "  File \"/home/nsdey/anaconda3/lib/python3.7/site-packages/chainer_chemistry/dataset/parsers/data_frame_parser.py\", line 104, in parse\n",
      "    input_features = pp.get_input_features(mol)\n",
      "  File \"/home/nsdey/anaconda3/lib/python3.7/site-packages/chainer_chemistry/dataset/preprocessors/nfp_preprocessor.py\", line 47, in get_input_features\n",
      "    atom_array = construct_atomic_number_array(mol, out_size=self.out_size)\n",
      "  File \"/home/nsdey/anaconda3/lib/python3.7/site-packages/chainer_chemistry/dataset/preprocessors/common.py\", line 66, in construct_atomic_number_array\n",
      "    '.'.format(out_size, n_atom))\n",
      "ValueError: `out_size` (=40) must be negative or larger than or equal to the number of atoms in the input molecules (=42).\n",
      "\n",
      "WARNING:chainer_chemistry.dataset.parsers.data_frame_parser:parse(), type: ValueError, ('`out_size` (=40) must be negative or larger than or equal to the number of atoms in the input molecules (=57).',)\n",
      "INFO:chainer_chemistry.dataset.parsers.data_frame_parser:Traceback (most recent call last):\n",
      "  File \"/home/nsdey/anaconda3/lib/python3.7/site-packages/chainer_chemistry/dataset/parsers/data_frame_parser.py\", line 104, in parse\n",
      "    input_features = pp.get_input_features(mol)\n",
      "  File \"/home/nsdey/anaconda3/lib/python3.7/site-packages/chainer_chemistry/dataset/preprocessors/nfp_preprocessor.py\", line 47, in get_input_features\n",
      "    atom_array = construct_atomic_number_array(mol, out_size=self.out_size)\n",
      "  File \"/home/nsdey/anaconda3/lib/python3.7/site-packages/chainer_chemistry/dataset/preprocessors/common.py\", line 66, in construct_atomic_number_array\n",
      "    '.'.format(out_size, n_atom))\n",
      "ValueError: `out_size` (=40) must be negative or larger than or equal to the number of atoms in the input molecules (=57).\n",
      "\n"
     ]
    },
    {
     "name": "stderr",
     "output_type": "stream",
     "text": [
      "WARNING:chainer_chemistry.dataset.parsers.data_frame_parser:parse(), type: ValueError, ('`out_size` (=40) must be negative or larger than or equal to the number of atoms in the input molecules (=42).',)\n",
      "INFO:chainer_chemistry.dataset.parsers.data_frame_parser:Traceback (most recent call last):\n",
      "  File \"/home/nsdey/anaconda3/lib/python3.7/site-packages/chainer_chemistry/dataset/parsers/data_frame_parser.py\", line 104, in parse\n",
      "    input_features = pp.get_input_features(mol)\n",
      "  File \"/home/nsdey/anaconda3/lib/python3.7/site-packages/chainer_chemistry/dataset/preprocessors/nfp_preprocessor.py\", line 47, in get_input_features\n",
      "    atom_array = construct_atomic_number_array(mol, out_size=self.out_size)\n",
      "  File \"/home/nsdey/anaconda3/lib/python3.7/site-packages/chainer_chemistry/dataset/preprocessors/common.py\", line 66, in construct_atomic_number_array\n",
      "    '.'.format(out_size, n_atom))\n",
      "ValueError: `out_size` (=40) must be negative or larger than or equal to the number of atoms in the input molecules (=42).\n",
      "\n",
      "WARNING:chainer_chemistry.dataset.parsers.data_frame_parser:parse(), type: ValueError, ('`out_size` (=40) must be negative or larger than or equal to the number of atoms in the input molecules (=45).',)\n",
      "INFO:chainer_chemistry.dataset.parsers.data_frame_parser:Traceback (most recent call last):\n",
      "  File \"/home/nsdey/anaconda3/lib/python3.7/site-packages/chainer_chemistry/dataset/parsers/data_frame_parser.py\", line 104, in parse\n",
      "    input_features = pp.get_input_features(mol)\n",
      "  File \"/home/nsdey/anaconda3/lib/python3.7/site-packages/chainer_chemistry/dataset/preprocessors/nfp_preprocessor.py\", line 47, in get_input_features\n",
      "    atom_array = construct_atomic_number_array(mol, out_size=self.out_size)\n",
      "  File \"/home/nsdey/anaconda3/lib/python3.7/site-packages/chainer_chemistry/dataset/preprocessors/common.py\", line 66, in construct_atomic_number_array\n",
      "    '.'.format(out_size, n_atom))\n",
      "ValueError: `out_size` (=40) must be negative or larger than or equal to the number of atoms in the input molecules (=45).\n",
      "\n",
      "WARNING:chainer_chemistry.dataset.parsers.data_frame_parser:parse(), type: ValueError, ('`out_size` (=40) must be negative or larger than or equal to the number of atoms in the input molecules (=51).',)\n",
      "INFO:chainer_chemistry.dataset.parsers.data_frame_parser:Traceback (most recent call last):\n",
      "  File \"/home/nsdey/anaconda3/lib/python3.7/site-packages/chainer_chemistry/dataset/parsers/data_frame_parser.py\", line 104, in parse\n",
      "    input_features = pp.get_input_features(mol)\n",
      "  File \"/home/nsdey/anaconda3/lib/python3.7/site-packages/chainer_chemistry/dataset/preprocessors/nfp_preprocessor.py\", line 47, in get_input_features\n",
      "    atom_array = construct_atomic_number_array(mol, out_size=self.out_size)\n",
      "  File \"/home/nsdey/anaconda3/lib/python3.7/site-packages/chainer_chemistry/dataset/preprocessors/common.py\", line 66, in construct_atomic_number_array\n",
      "    '.'.format(out_size, n_atom))\n",
      "ValueError: `out_size` (=40) must be negative or larger than or equal to the number of atoms in the input molecules (=51).\n",
      "\n",
      "WARNING:chainer_chemistry.dataset.parsers.data_frame_parser:parse(), type: ValueError, ('`out_size` (=40) must be negative or larger than or equal to the number of atoms in the input molecules (=46).',)\n",
      "INFO:chainer_chemistry.dataset.parsers.data_frame_parser:Traceback (most recent call last):\n",
      "  File \"/home/nsdey/anaconda3/lib/python3.7/site-packages/chainer_chemistry/dataset/parsers/data_frame_parser.py\", line 104, in parse\n",
      "    input_features = pp.get_input_features(mol)\n",
      "  File \"/home/nsdey/anaconda3/lib/python3.7/site-packages/chainer_chemistry/dataset/preprocessors/nfp_preprocessor.py\", line 47, in get_input_features\n",
      "    atom_array = construct_atomic_number_array(mol, out_size=self.out_size)\n",
      "  File \"/home/nsdey/anaconda3/lib/python3.7/site-packages/chainer_chemistry/dataset/preprocessors/common.py\", line 66, in construct_atomic_number_array\n",
      "    '.'.format(out_size, n_atom))\n",
      "ValueError: `out_size` (=40) must be negative or larger than or equal to the number of atoms in the input molecules (=46).\n",
      "\n",
      "WARNING:chainer_chemistry.dataset.parsers.data_frame_parser:parse(), type: ValueError, ('`out_size` (=40) must be negative or larger than or equal to the number of atoms in the input molecules (=62).',)\n",
      "INFO:chainer_chemistry.dataset.parsers.data_frame_parser:Traceback (most recent call last):\n",
      "  File \"/home/nsdey/anaconda3/lib/python3.7/site-packages/chainer_chemistry/dataset/parsers/data_frame_parser.py\", line 104, in parse\n",
      "    input_features = pp.get_input_features(mol)\n",
      "  File \"/home/nsdey/anaconda3/lib/python3.7/site-packages/chainer_chemistry/dataset/preprocessors/nfp_preprocessor.py\", line 47, in get_input_features\n",
      "    atom_array = construct_atomic_number_array(mol, out_size=self.out_size)\n",
      "  File \"/home/nsdey/anaconda3/lib/python3.7/site-packages/chainer_chemistry/dataset/preprocessors/common.py\", line 66, in construct_atomic_number_array\n",
      "    '.'.format(out_size, n_atom))\n",
      "ValueError: `out_size` (=40) must be negative or larger than or equal to the number of atoms in the input molecules (=62).\n",
      "\n",
      "WARNING:chainer_chemistry.dataset.parsers.data_frame_parser:parse(), type: ValueError, ('`out_size` (=40) must be negative or larger than or equal to the number of atoms in the input molecules (=61).',)\n",
      "INFO:chainer_chemistry.dataset.parsers.data_frame_parser:Traceback (most recent call last):\n",
      "  File \"/home/nsdey/anaconda3/lib/python3.7/site-packages/chainer_chemistry/dataset/parsers/data_frame_parser.py\", line 104, in parse\n",
      "    input_features = pp.get_input_features(mol)\n",
      "  File \"/home/nsdey/anaconda3/lib/python3.7/site-packages/chainer_chemistry/dataset/preprocessors/nfp_preprocessor.py\", line 47, in get_input_features\n",
      "    atom_array = construct_atomic_number_array(mol, out_size=self.out_size)\n",
      "  File \"/home/nsdey/anaconda3/lib/python3.7/site-packages/chainer_chemistry/dataset/preprocessors/common.py\", line 66, in construct_atomic_number_array\n",
      "    '.'.format(out_size, n_atom))\n",
      "ValueError: `out_size` (=40) must be negative or larger than or equal to the number of atoms in the input molecules (=61).\n",
      "\n",
      "WARNING:chainer_chemistry.dataset.parsers.data_frame_parser:parse(), type: ValueError, ('`out_size` (=40) must be negative or larger than or equal to the number of atoms in the input molecules (=60).',)\n",
      "INFO:chainer_chemistry.dataset.parsers.data_frame_parser:Traceback (most recent call last):\n",
      "  File \"/home/nsdey/anaconda3/lib/python3.7/site-packages/chainer_chemistry/dataset/parsers/data_frame_parser.py\", line 104, in parse\n",
      "    input_features = pp.get_input_features(mol)\n",
      "  File \"/home/nsdey/anaconda3/lib/python3.7/site-packages/chainer_chemistry/dataset/preprocessors/nfp_preprocessor.py\", line 47, in get_input_features\n",
      "    atom_array = construct_atomic_number_array(mol, out_size=self.out_size)\n",
      "  File \"/home/nsdey/anaconda3/lib/python3.7/site-packages/chainer_chemistry/dataset/preprocessors/common.py\", line 66, in construct_atomic_number_array\n",
      "    '.'.format(out_size, n_atom))\n",
      "ValueError: `out_size` (=40) must be negative or larger than or equal to the number of atoms in the input molecules (=60).\n",
      "\n",
      "WARNING:chainer_chemistry.dataset.parsers.data_frame_parser:parse(), type: ValueError, ('`out_size` (=40) must be negative or larger than or equal to the number of atoms in the input molecules (=57).',)\n",
      "INFO:chainer_chemistry.dataset.parsers.data_frame_parser:Traceback (most recent call last):\n",
      "  File \"/home/nsdey/anaconda3/lib/python3.7/site-packages/chainer_chemistry/dataset/parsers/data_frame_parser.py\", line 104, in parse\n",
      "    input_features = pp.get_input_features(mol)\n",
      "  File \"/home/nsdey/anaconda3/lib/python3.7/site-packages/chainer_chemistry/dataset/preprocessors/nfp_preprocessor.py\", line 47, in get_input_features\n",
      "    atom_array = construct_atomic_number_array(mol, out_size=self.out_size)\n",
      "  File \"/home/nsdey/anaconda3/lib/python3.7/site-packages/chainer_chemistry/dataset/preprocessors/common.py\", line 66, in construct_atomic_number_array\n",
      "    '.'.format(out_size, n_atom))\n",
      "ValueError: `out_size` (=40) must be negative or larger than or equal to the number of atoms in the input molecules (=57).\n",
      "\n",
      "WARNING:chainer_chemistry.dataset.parsers.data_frame_parser:parse(), type: ValueError, ('`out_size` (=40) must be negative or larger than or equal to the number of atoms in the input molecules (=58).',)\n"
     ]
    },
    {
     "name": "stderr",
     "output_type": "stream",
     "text": [
      "INFO:chainer_chemistry.dataset.parsers.data_frame_parser:Traceback (most recent call last):\n",
      "  File \"/home/nsdey/anaconda3/lib/python3.7/site-packages/chainer_chemistry/dataset/parsers/data_frame_parser.py\", line 104, in parse\n",
      "    input_features = pp.get_input_features(mol)\n",
      "  File \"/home/nsdey/anaconda3/lib/python3.7/site-packages/chainer_chemistry/dataset/preprocessors/nfp_preprocessor.py\", line 47, in get_input_features\n",
      "    atom_array = construct_atomic_number_array(mol, out_size=self.out_size)\n",
      "  File \"/home/nsdey/anaconda3/lib/python3.7/site-packages/chainer_chemistry/dataset/preprocessors/common.py\", line 66, in construct_atomic_number_array\n",
      "    '.'.format(out_size, n_atom))\n",
      "ValueError: `out_size` (=40) must be negative or larger than or equal to the number of atoms in the input molecules (=58).\n",
      "\n",
      "WARNING:chainer_chemistry.dataset.parsers.data_frame_parser:parse(), type: ValueError, ('`out_size` (=40) must be negative or larger than or equal to the number of atoms in the input molecules (=59).',)\n",
      "INFO:chainer_chemistry.dataset.parsers.data_frame_parser:Traceback (most recent call last):\n",
      "  File \"/home/nsdey/anaconda3/lib/python3.7/site-packages/chainer_chemistry/dataset/parsers/data_frame_parser.py\", line 104, in parse\n",
      "    input_features = pp.get_input_features(mol)\n",
      "  File \"/home/nsdey/anaconda3/lib/python3.7/site-packages/chainer_chemistry/dataset/preprocessors/nfp_preprocessor.py\", line 47, in get_input_features\n",
      "    atom_array = construct_atomic_number_array(mol, out_size=self.out_size)\n",
      "  File \"/home/nsdey/anaconda3/lib/python3.7/site-packages/chainer_chemistry/dataset/preprocessors/common.py\", line 66, in construct_atomic_number_array\n",
      "    '.'.format(out_size, n_atom))\n",
      "ValueError: `out_size` (=40) must be negative or larger than or equal to the number of atoms in the input molecules (=59).\n",
      "\n",
      "WARNING:chainer_chemistry.dataset.parsers.data_frame_parser:parse(), type: ValueError, ('`out_size` (=40) must be negative or larger than or equal to the number of atoms in the input molecules (=50).',)\n",
      "INFO:chainer_chemistry.dataset.parsers.data_frame_parser:Traceback (most recent call last):\n",
      "  File \"/home/nsdey/anaconda3/lib/python3.7/site-packages/chainer_chemistry/dataset/parsers/data_frame_parser.py\", line 104, in parse\n",
      "    input_features = pp.get_input_features(mol)\n",
      "  File \"/home/nsdey/anaconda3/lib/python3.7/site-packages/chainer_chemistry/dataset/preprocessors/nfp_preprocessor.py\", line 47, in get_input_features\n",
      "    atom_array = construct_atomic_number_array(mol, out_size=self.out_size)\n",
      "  File \"/home/nsdey/anaconda3/lib/python3.7/site-packages/chainer_chemistry/dataset/preprocessors/common.py\", line 66, in construct_atomic_number_array\n",
      "    '.'.format(out_size, n_atom))\n",
      "ValueError: `out_size` (=40) must be negative or larger than or equal to the number of atoms in the input molecules (=50).\n",
      "\n",
      "WARNING:chainer_chemistry.dataset.parsers.data_frame_parser:parse(), type: ValueError, ('`out_size` (=40) must be negative or larger than or equal to the number of atoms in the input molecules (=63).',)\n",
      "INFO:chainer_chemistry.dataset.parsers.data_frame_parser:Traceback (most recent call last):\n",
      "  File \"/home/nsdey/anaconda3/lib/python3.7/site-packages/chainer_chemistry/dataset/parsers/data_frame_parser.py\", line 104, in parse\n",
      "    input_features = pp.get_input_features(mol)\n",
      "  File \"/home/nsdey/anaconda3/lib/python3.7/site-packages/chainer_chemistry/dataset/preprocessors/nfp_preprocessor.py\", line 47, in get_input_features\n",
      "    atom_array = construct_atomic_number_array(mol, out_size=self.out_size)\n",
      "  File \"/home/nsdey/anaconda3/lib/python3.7/site-packages/chainer_chemistry/dataset/preprocessors/common.py\", line 66, in construct_atomic_number_array\n",
      "    '.'.format(out_size, n_atom))\n",
      "ValueError: `out_size` (=40) must be negative or larger than or equal to the number of atoms in the input molecules (=63).\n",
      "\n",
      "WARNING:chainer_chemistry.dataset.parsers.data_frame_parser:parse(), type: ValueError, ('`out_size` (=40) must be negative or larger than or equal to the number of atoms in the input molecules (=57).',)\n",
      "INFO:chainer_chemistry.dataset.parsers.data_frame_parser:Traceback (most recent call last):\n",
      "  File \"/home/nsdey/anaconda3/lib/python3.7/site-packages/chainer_chemistry/dataset/parsers/data_frame_parser.py\", line 104, in parse\n",
      "    input_features = pp.get_input_features(mol)\n",
      "  File \"/home/nsdey/anaconda3/lib/python3.7/site-packages/chainer_chemistry/dataset/preprocessors/nfp_preprocessor.py\", line 47, in get_input_features\n",
      "    atom_array = construct_atomic_number_array(mol, out_size=self.out_size)\n",
      "  File \"/home/nsdey/anaconda3/lib/python3.7/site-packages/chainer_chemistry/dataset/preprocessors/common.py\", line 66, in construct_atomic_number_array\n",
      "    '.'.format(out_size, n_atom))\n",
      "ValueError: `out_size` (=40) must be negative or larger than or equal to the number of atoms in the input molecules (=57).\n",
      "\n",
      "WARNING:chainer_chemistry.dataset.parsers.data_frame_parser:parse(), type: ValueError, ('`out_size` (=40) must be negative or larger than or equal to the number of atoms in the input molecules (=67).',)\n",
      "INFO:chainer_chemistry.dataset.parsers.data_frame_parser:Traceback (most recent call last):\n",
      "  File \"/home/nsdey/anaconda3/lib/python3.7/site-packages/chainer_chemistry/dataset/parsers/data_frame_parser.py\", line 104, in parse\n",
      "    input_features = pp.get_input_features(mol)\n",
      "  File \"/home/nsdey/anaconda3/lib/python3.7/site-packages/chainer_chemistry/dataset/preprocessors/nfp_preprocessor.py\", line 47, in get_input_features\n",
      "    atom_array = construct_atomic_number_array(mol, out_size=self.out_size)\n",
      "  File \"/home/nsdey/anaconda3/lib/python3.7/site-packages/chainer_chemistry/dataset/preprocessors/common.py\", line 66, in construct_atomic_number_array\n",
      "    '.'.format(out_size, n_atom))\n",
      "ValueError: `out_size` (=40) must be negative or larger than or equal to the number of atoms in the input molecules (=67).\n",
      "\n",
      "WARNING:chainer_chemistry.dataset.parsers.data_frame_parser:parse(), type: ValueError, ('`out_size` (=40) must be negative or larger than or equal to the number of atoms in the input molecules (=58).',)\n",
      "INFO:chainer_chemistry.dataset.parsers.data_frame_parser:Traceback (most recent call last):\n",
      "  File \"/home/nsdey/anaconda3/lib/python3.7/site-packages/chainer_chemistry/dataset/parsers/data_frame_parser.py\", line 104, in parse\n",
      "    input_features = pp.get_input_features(mol)\n",
      "  File \"/home/nsdey/anaconda3/lib/python3.7/site-packages/chainer_chemistry/dataset/preprocessors/nfp_preprocessor.py\", line 47, in get_input_features\n",
      "    atom_array = construct_atomic_number_array(mol, out_size=self.out_size)\n",
      "  File \"/home/nsdey/anaconda3/lib/python3.7/site-packages/chainer_chemistry/dataset/preprocessors/common.py\", line 66, in construct_atomic_number_array\n",
      "    '.'.format(out_size, n_atom))\n",
      "ValueError: `out_size` (=40) must be negative or larger than or equal to the number of atoms in the input molecules (=58).\n",
      "\n",
      "WARNING:chainer_chemistry.dataset.parsers.data_frame_parser:parse(), type: ValueError, ('`out_size` (=40) must be negative or larger than or equal to the number of atoms in the input molecules (=59).',)\n",
      "INFO:chainer_chemistry.dataset.parsers.data_frame_parser:Traceback (most recent call last):\n",
      "  File \"/home/nsdey/anaconda3/lib/python3.7/site-packages/chainer_chemistry/dataset/parsers/data_frame_parser.py\", line 104, in parse\n",
      "    input_features = pp.get_input_features(mol)\n",
      "  File \"/home/nsdey/anaconda3/lib/python3.7/site-packages/chainer_chemistry/dataset/preprocessors/nfp_preprocessor.py\", line 47, in get_input_features\n",
      "    atom_array = construct_atomic_number_array(mol, out_size=self.out_size)\n",
      "  File \"/home/nsdey/anaconda3/lib/python3.7/site-packages/chainer_chemistry/dataset/preprocessors/common.py\", line 66, in construct_atomic_number_array\n",
      "    '.'.format(out_size, n_atom))\n",
      "ValueError: `out_size` (=40) must be negative or larger than or equal to the number of atoms in the input molecules (=59).\n",
      "\n",
      "WARNING:chainer_chemistry.dataset.parsers.data_frame_parser:parse(), type: ValueError, ('`out_size` (=40) must be negative or larger than or equal to the number of atoms in the input molecules (=57).',)\n",
      "INFO:chainer_chemistry.dataset.parsers.data_frame_parser:Traceback (most recent call last):\n",
      "  File \"/home/nsdey/anaconda3/lib/python3.7/site-packages/chainer_chemistry/dataset/parsers/data_frame_parser.py\", line 104, in parse\n",
      "    input_features = pp.get_input_features(mol)\n",
      "  File \"/home/nsdey/anaconda3/lib/python3.7/site-packages/chainer_chemistry/dataset/preprocessors/nfp_preprocessor.py\", line 47, in get_input_features\n",
      "    atom_array = construct_atomic_number_array(mol, out_size=self.out_size)\n",
      "  File \"/home/nsdey/anaconda3/lib/python3.7/site-packages/chainer_chemistry/dataset/preprocessors/common.py\", line 66, in construct_atomic_number_array\n",
      "    '.'.format(out_size, n_atom))\n",
      "ValueError: `out_size` (=40) must be negative or larger than or equal to the number of atoms in the input molecules (=57).\n",
      "\n"
     ]
    },
    {
     "name": "stderr",
     "output_type": "stream",
     "text": [
      "WARNING:chainer_chemistry.dataset.parsers.data_frame_parser:parse(), type: ValueError, ('`out_size` (=40) must be negative or larger than or equal to the number of atoms in the input molecules (=132).',)\n",
      "INFO:chainer_chemistry.dataset.parsers.data_frame_parser:Traceback (most recent call last):\n",
      "  File \"/home/nsdey/anaconda3/lib/python3.7/site-packages/chainer_chemistry/dataset/parsers/data_frame_parser.py\", line 104, in parse\n",
      "    input_features = pp.get_input_features(mol)\n",
      "  File \"/home/nsdey/anaconda3/lib/python3.7/site-packages/chainer_chemistry/dataset/preprocessors/nfp_preprocessor.py\", line 47, in get_input_features\n",
      "    atom_array = construct_atomic_number_array(mol, out_size=self.out_size)\n",
      "  File \"/home/nsdey/anaconda3/lib/python3.7/site-packages/chainer_chemistry/dataset/preprocessors/common.py\", line 66, in construct_atomic_number_array\n",
      "    '.'.format(out_size, n_atom))\n",
      "ValueError: `out_size` (=40) must be negative or larger than or equal to the number of atoms in the input molecules (=132).\n",
      "\n",
      "WARNING:chainer_chemistry.dataset.parsers.data_frame_parser:parse(), type: ValueError, ('`out_size` (=40) must be negative or larger than or equal to the number of atoms in the input molecules (=57).',)\n",
      "INFO:chainer_chemistry.dataset.parsers.data_frame_parser:Traceback (most recent call last):\n",
      "  File \"/home/nsdey/anaconda3/lib/python3.7/site-packages/chainer_chemistry/dataset/parsers/data_frame_parser.py\", line 104, in parse\n",
      "    input_features = pp.get_input_features(mol)\n",
      "  File \"/home/nsdey/anaconda3/lib/python3.7/site-packages/chainer_chemistry/dataset/preprocessors/nfp_preprocessor.py\", line 47, in get_input_features\n",
      "    atom_array = construct_atomic_number_array(mol, out_size=self.out_size)\n",
      "  File \"/home/nsdey/anaconda3/lib/python3.7/site-packages/chainer_chemistry/dataset/preprocessors/common.py\", line 66, in construct_atomic_number_array\n",
      "    '.'.format(out_size, n_atom))\n",
      "ValueError: `out_size` (=40) must be negative or larger than or equal to the number of atoms in the input molecules (=57).\n",
      "\n",
      "WARNING:chainer_chemistry.dataset.parsers.data_frame_parser:parse(), type: ValueError, ('`out_size` (=40) must be negative or larger than or equal to the number of atoms in the input molecules (=55).',)\n",
      "INFO:chainer_chemistry.dataset.parsers.data_frame_parser:Traceback (most recent call last):\n",
      "  File \"/home/nsdey/anaconda3/lib/python3.7/site-packages/chainer_chemistry/dataset/parsers/data_frame_parser.py\", line 104, in parse\n",
      "    input_features = pp.get_input_features(mol)\n",
      "  File \"/home/nsdey/anaconda3/lib/python3.7/site-packages/chainer_chemistry/dataset/preprocessors/nfp_preprocessor.py\", line 47, in get_input_features\n",
      "    atom_array = construct_atomic_number_array(mol, out_size=self.out_size)\n",
      "  File \"/home/nsdey/anaconda3/lib/python3.7/site-packages/chainer_chemistry/dataset/preprocessors/common.py\", line 66, in construct_atomic_number_array\n",
      "    '.'.format(out_size, n_atom))\n",
      "ValueError: `out_size` (=40) must be negative or larger than or equal to the number of atoms in the input molecules (=55).\n",
      "\n",
      "WARNING:chainer_chemistry.dataset.parsers.data_frame_parser:parse(), type: ValueError, ('`out_size` (=40) must be negative or larger than or equal to the number of atoms in the input molecules (=49).',)\n",
      "INFO:chainer_chemistry.dataset.parsers.data_frame_parser:Traceback (most recent call last):\n",
      "  File \"/home/nsdey/anaconda3/lib/python3.7/site-packages/chainer_chemistry/dataset/parsers/data_frame_parser.py\", line 104, in parse\n",
      "    input_features = pp.get_input_features(mol)\n",
      "  File \"/home/nsdey/anaconda3/lib/python3.7/site-packages/chainer_chemistry/dataset/preprocessors/nfp_preprocessor.py\", line 47, in get_input_features\n",
      "    atom_array = construct_atomic_number_array(mol, out_size=self.out_size)\n",
      "  File \"/home/nsdey/anaconda3/lib/python3.7/site-packages/chainer_chemistry/dataset/preprocessors/common.py\", line 66, in construct_atomic_number_array\n",
      "    '.'.format(out_size, n_atom))\n",
      "ValueError: `out_size` (=40) must be negative or larger than or equal to the number of atoms in the input molecules (=49).\n",
      "\n",
      " 47%|████▋     | 960/2050 [00:00<00:01, 848.38it/s] WARNING:chainer_chemistry.dataset.parsers.data_frame_parser:parse(), type: ValueError, ('`out_size` (=40) must be negative or larger than or equal to the number of atoms in the input molecules (=54).',)\n",
      "INFO:chainer_chemistry.dataset.parsers.data_frame_parser:Traceback (most recent call last):\n",
      "  File \"/home/nsdey/anaconda3/lib/python3.7/site-packages/chainer_chemistry/dataset/parsers/data_frame_parser.py\", line 104, in parse\n",
      "    input_features = pp.get_input_features(mol)\n",
      "  File \"/home/nsdey/anaconda3/lib/python3.7/site-packages/chainer_chemistry/dataset/preprocessors/nfp_preprocessor.py\", line 47, in get_input_features\n",
      "    atom_array = construct_atomic_number_array(mol, out_size=self.out_size)\n",
      "  File \"/home/nsdey/anaconda3/lib/python3.7/site-packages/chainer_chemistry/dataset/preprocessors/common.py\", line 66, in construct_atomic_number_array\n",
      "    '.'.format(out_size, n_atom))\n",
      "ValueError: `out_size` (=40) must be negative or larger than or equal to the number of atoms in the input molecules (=54).\n",
      "\n",
      "WARNING:chainer_chemistry.dataset.parsers.data_frame_parser:parse(), type: ValueError, ('`out_size` (=40) must be negative or larger than or equal to the number of atoms in the input molecules (=61).',)\n",
      "INFO:chainer_chemistry.dataset.parsers.data_frame_parser:Traceback (most recent call last):\n",
      "  File \"/home/nsdey/anaconda3/lib/python3.7/site-packages/chainer_chemistry/dataset/parsers/data_frame_parser.py\", line 104, in parse\n",
      "    input_features = pp.get_input_features(mol)\n",
      "  File \"/home/nsdey/anaconda3/lib/python3.7/site-packages/chainer_chemistry/dataset/preprocessors/nfp_preprocessor.py\", line 47, in get_input_features\n",
      "    atom_array = construct_atomic_number_array(mol, out_size=self.out_size)\n",
      "  File \"/home/nsdey/anaconda3/lib/python3.7/site-packages/chainer_chemistry/dataset/preprocessors/common.py\", line 66, in construct_atomic_number_array\n",
      "    '.'.format(out_size, n_atom))\n",
      "ValueError: `out_size` (=40) must be negative or larger than or equal to the number of atoms in the input molecules (=61).\n",
      "\n",
      " 53%|█████▎    | 1096/2050 [00:01<00:00, 955.05it/s]WARNING:chainer_chemistry.dataset.parsers.data_frame_parser:parse(), type: ValueError, ('`out_size` (=40) must be negative or larger than or equal to the number of atoms in the input molecules (=48).',)\n",
      "INFO:chainer_chemistry.dataset.parsers.data_frame_parser:Traceback (most recent call last):\n",
      "  File \"/home/nsdey/anaconda3/lib/python3.7/site-packages/chainer_chemistry/dataset/parsers/data_frame_parser.py\", line 104, in parse\n",
      "    input_features = pp.get_input_features(mol)\n",
      "  File \"/home/nsdey/anaconda3/lib/python3.7/site-packages/chainer_chemistry/dataset/preprocessors/nfp_preprocessor.py\", line 47, in get_input_features\n",
      "    atom_array = construct_atomic_number_array(mol, out_size=self.out_size)\n",
      "  File \"/home/nsdey/anaconda3/lib/python3.7/site-packages/chainer_chemistry/dataset/preprocessors/common.py\", line 66, in construct_atomic_number_array\n",
      "    '.'.format(out_size, n_atom))\n",
      "ValueError: `out_size` (=40) must be negative or larger than or equal to the number of atoms in the input molecules (=48).\n",
      "\n",
      "WARNING:chainer_chemistry.dataset.parsers.data_frame_parser:parse(), type: ValueError, ('`out_size` (=40) must be negative or larger than or equal to the number of atoms in the input molecules (=41).',)\n",
      "INFO:chainer_chemistry.dataset.parsers.data_frame_parser:Traceback (most recent call last):\n",
      "  File \"/home/nsdey/anaconda3/lib/python3.7/site-packages/chainer_chemistry/dataset/parsers/data_frame_parser.py\", line 104, in parse\n",
      "    input_features = pp.get_input_features(mol)\n",
      "  File \"/home/nsdey/anaconda3/lib/python3.7/site-packages/chainer_chemistry/dataset/preprocessors/nfp_preprocessor.py\", line 47, in get_input_features\n",
      "    atom_array = construct_atomic_number_array(mol, out_size=self.out_size)\n",
      "  File \"/home/nsdey/anaconda3/lib/python3.7/site-packages/chainer_chemistry/dataset/preprocessors/common.py\", line 66, in construct_atomic_number_array\n",
      "    '.'.format(out_size, n_atom))\n",
      "ValueError: `out_size` (=40) must be negative or larger than or equal to the number of atoms in the input molecules (=41).\n",
      "\n"
     ]
    },
    {
     "name": "stderr",
     "output_type": "stream",
     "text": [
      " 60%|██████    | 1234/2050 [00:01<00:00, 1051.24it/s]WARNING:chainer_chemistry.dataset.parsers.data_frame_parser:parse(), type: ValueError, ('`out_size` (=40) must be negative or larger than or equal to the number of atoms in the input molecules (=41).',)\n",
      "INFO:chainer_chemistry.dataset.parsers.data_frame_parser:Traceback (most recent call last):\n",
      "  File \"/home/nsdey/anaconda3/lib/python3.7/site-packages/chainer_chemistry/dataset/parsers/data_frame_parser.py\", line 104, in parse\n",
      "    input_features = pp.get_input_features(mol)\n",
      "  File \"/home/nsdey/anaconda3/lib/python3.7/site-packages/chainer_chemistry/dataset/preprocessors/nfp_preprocessor.py\", line 47, in get_input_features\n",
      "    atom_array = construct_atomic_number_array(mol, out_size=self.out_size)\n",
      "  File \"/home/nsdey/anaconda3/lib/python3.7/site-packages/chainer_chemistry/dataset/preprocessors/common.py\", line 66, in construct_atomic_number_array\n",
      "    '.'.format(out_size, n_atom))\n",
      "ValueError: `out_size` (=40) must be negative or larger than or equal to the number of atoms in the input molecules (=41).\n",
      "\n",
      " 67%|██████▋   | 1370/2050 [00:01<00:00, 1126.03it/s]WARNING:chainer_chemistry.dataset.parsers.data_frame_parser:parse(), type: ValueError, ('`out_size` (=40) must be negative or larger than or equal to the number of atoms in the input molecules (=43).',)\n",
      "INFO:chainer_chemistry.dataset.parsers.data_frame_parser:Traceback (most recent call last):\n",
      "  File \"/home/nsdey/anaconda3/lib/python3.7/site-packages/chainer_chemistry/dataset/parsers/data_frame_parser.py\", line 104, in parse\n",
      "    input_features = pp.get_input_features(mol)\n",
      "  File \"/home/nsdey/anaconda3/lib/python3.7/site-packages/chainer_chemistry/dataset/preprocessors/nfp_preprocessor.py\", line 47, in get_input_features\n",
      "    atom_array = construct_atomic_number_array(mol, out_size=self.out_size)\n",
      "  File \"/home/nsdey/anaconda3/lib/python3.7/site-packages/chainer_chemistry/dataset/preprocessors/common.py\", line 66, in construct_atomic_number_array\n",
      "    '.'.format(out_size, n_atom))\n",
      "ValueError: `out_size` (=40) must be negative or larger than or equal to the number of atoms in the input molecules (=43).\n",
      "\n",
      "WARNING:chainer_chemistry.dataset.parsers.data_frame_parser:parse(), type: ValueError, ('`out_size` (=40) must be negative or larger than or equal to the number of atoms in the input molecules (=49).',)\n",
      "INFO:chainer_chemistry.dataset.parsers.data_frame_parser:Traceback (most recent call last):\n",
      "  File \"/home/nsdey/anaconda3/lib/python3.7/site-packages/chainer_chemistry/dataset/parsers/data_frame_parser.py\", line 104, in parse\n",
      "    input_features = pp.get_input_features(mol)\n",
      "  File \"/home/nsdey/anaconda3/lib/python3.7/site-packages/chainer_chemistry/dataset/preprocessors/nfp_preprocessor.py\", line 47, in get_input_features\n",
      "    atom_array = construct_atomic_number_array(mol, out_size=self.out_size)\n",
      "  File \"/home/nsdey/anaconda3/lib/python3.7/site-packages/chainer_chemistry/dataset/preprocessors/common.py\", line 66, in construct_atomic_number_array\n",
      "    '.'.format(out_size, n_atom))\n",
      "ValueError: `out_size` (=40) must be negative or larger than or equal to the number of atoms in the input molecules (=49).\n",
      "\n",
      "WARNING:chainer_chemistry.dataset.parsers.data_frame_parser:parse(), type: ValueError, ('`out_size` (=40) must be negative or larger than or equal to the number of atoms in the input molecules (=49).',)\n",
      "INFO:chainer_chemistry.dataset.parsers.data_frame_parser:Traceback (most recent call last):\n",
      "  File \"/home/nsdey/anaconda3/lib/python3.7/site-packages/chainer_chemistry/dataset/parsers/data_frame_parser.py\", line 104, in parse\n",
      "    input_features = pp.get_input_features(mol)\n",
      "  File \"/home/nsdey/anaconda3/lib/python3.7/site-packages/chainer_chemistry/dataset/preprocessors/nfp_preprocessor.py\", line 47, in get_input_features\n",
      "    atom_array = construct_atomic_number_array(mol, out_size=self.out_size)\n",
      "  File \"/home/nsdey/anaconda3/lib/python3.7/site-packages/chainer_chemistry/dataset/preprocessors/common.py\", line 66, in construct_atomic_number_array\n",
      "    '.'.format(out_size, n_atom))\n",
      "ValueError: `out_size` (=40) must be negative or larger than or equal to the number of atoms in the input molecules (=49).\n",
      "\n",
      " 73%|███████▎  | 1502/2050 [00:01<00:00, 1177.14it/s]WARNING:chainer_chemistry.dataset.parsers.data_frame_parser:parse(), type: ValueError, ('`out_size` (=40) must be negative or larger than or equal to the number of atoms in the input molecules (=41).',)\n",
      "INFO:chainer_chemistry.dataset.parsers.data_frame_parser:Traceback (most recent call last):\n",
      "  File \"/home/nsdey/anaconda3/lib/python3.7/site-packages/chainer_chemistry/dataset/parsers/data_frame_parser.py\", line 104, in parse\n",
      "    input_features = pp.get_input_features(mol)\n",
      "  File \"/home/nsdey/anaconda3/lib/python3.7/site-packages/chainer_chemistry/dataset/preprocessors/nfp_preprocessor.py\", line 47, in get_input_features\n",
      "    atom_array = construct_atomic_number_array(mol, out_size=self.out_size)\n",
      "  File \"/home/nsdey/anaconda3/lib/python3.7/site-packages/chainer_chemistry/dataset/preprocessors/common.py\", line 66, in construct_atomic_number_array\n",
      "    '.'.format(out_size, n_atom))\n",
      "ValueError: `out_size` (=40) must be negative or larger than or equal to the number of atoms in the input molecules (=41).\n",
      "\n",
      "WARNING:chainer_chemistry.dataset.parsers.data_frame_parser:parse(), type: ValueError, ('`out_size` (=40) must be negative or larger than or equal to the number of atoms in the input molecules (=45).',)\n",
      "INFO:chainer_chemistry.dataset.parsers.data_frame_parser:Traceback (most recent call last):\n",
      "  File \"/home/nsdey/anaconda3/lib/python3.7/site-packages/chainer_chemistry/dataset/parsers/data_frame_parser.py\", line 104, in parse\n",
      "    input_features = pp.get_input_features(mol)\n",
      "  File \"/home/nsdey/anaconda3/lib/python3.7/site-packages/chainer_chemistry/dataset/preprocessors/nfp_preprocessor.py\", line 47, in get_input_features\n",
      "    atom_array = construct_atomic_number_array(mol, out_size=self.out_size)\n",
      "  File \"/home/nsdey/anaconda3/lib/python3.7/site-packages/chainer_chemistry/dataset/preprocessors/common.py\", line 66, in construct_atomic_number_array\n",
      "    '.'.format(out_size, n_atom))\n",
      "ValueError: `out_size` (=40) must be negative or larger than or equal to the number of atoms in the input molecules (=45).\n",
      "\n",
      "WARNING:chainer_chemistry.dataset.parsers.data_frame_parser:parse(), type: ValueError, ('`out_size` (=40) must be negative or larger than or equal to the number of atoms in the input molecules (=42).',)\n",
      "INFO:chainer_chemistry.dataset.parsers.data_frame_parser:Traceback (most recent call last):\n",
      "  File \"/home/nsdey/anaconda3/lib/python3.7/site-packages/chainer_chemistry/dataset/parsers/data_frame_parser.py\", line 104, in parse\n",
      "    input_features = pp.get_input_features(mol)\n",
      "  File \"/home/nsdey/anaconda3/lib/python3.7/site-packages/chainer_chemistry/dataset/preprocessors/nfp_preprocessor.py\", line 47, in get_input_features\n",
      "    atom_array = construct_atomic_number_array(mol, out_size=self.out_size)\n",
      "  File \"/home/nsdey/anaconda3/lib/python3.7/site-packages/chainer_chemistry/dataset/preprocessors/common.py\", line 66, in construct_atomic_number_array\n",
      "    '.'.format(out_size, n_atom))\n",
      "ValueError: `out_size` (=40) must be negative or larger than or equal to the number of atoms in the input molecules (=42).\n",
      "\n",
      " 80%|███████▉  | 1637/2050 [00:01<00:00, 1222.04it/s]WARNING:chainer_chemistry.dataset.parsers.data_frame_parser:parse(), type: ValueError, ('`out_size` (=40) must be negative or larger than or equal to the number of atoms in the input molecules (=43).',)\n",
      "INFO:chainer_chemistry.dataset.parsers.data_frame_parser:Traceback (most recent call last):\n",
      "  File \"/home/nsdey/anaconda3/lib/python3.7/site-packages/chainer_chemistry/dataset/parsers/data_frame_parser.py\", line 104, in parse\n",
      "    input_features = pp.get_input_features(mol)\n",
      "  File \"/home/nsdey/anaconda3/lib/python3.7/site-packages/chainer_chemistry/dataset/preprocessors/nfp_preprocessor.py\", line 47, in get_input_features\n",
      "    atom_array = construct_atomic_number_array(mol, out_size=self.out_size)\n",
      "  File \"/home/nsdey/anaconda3/lib/python3.7/site-packages/chainer_chemistry/dataset/preprocessors/common.py\", line 66, in construct_atomic_number_array\n",
      "    '.'.format(out_size, n_atom))\n",
      "ValueError: `out_size` (=40) must be negative or larger than or equal to the number of atoms in the input molecules (=43).\n",
      "\n"
     ]
    },
    {
     "name": "stderr",
     "output_type": "stream",
     "text": [
      " 86%|████████▋ | 1773/2050 [00:01<00:00, 1258.24it/s]WARNING:chainer_chemistry.dataset.parsers.data_frame_parser:parse(), type: ValueError, ('`out_size` (=40) must be negative or larger than or equal to the number of atoms in the input molecules (=63).',)\n",
      "INFO:chainer_chemistry.dataset.parsers.data_frame_parser:Traceback (most recent call last):\n",
      "  File \"/home/nsdey/anaconda3/lib/python3.7/site-packages/chainer_chemistry/dataset/parsers/data_frame_parser.py\", line 104, in parse\n",
      "    input_features = pp.get_input_features(mol)\n",
      "  File \"/home/nsdey/anaconda3/lib/python3.7/site-packages/chainer_chemistry/dataset/preprocessors/nfp_preprocessor.py\", line 47, in get_input_features\n",
      "    atom_array = construct_atomic_number_array(mol, out_size=self.out_size)\n",
      "  File \"/home/nsdey/anaconda3/lib/python3.7/site-packages/chainer_chemistry/dataset/preprocessors/common.py\", line 66, in construct_atomic_number_array\n",
      "    '.'.format(out_size, n_atom))\n",
      "ValueError: `out_size` (=40) must be negative or larger than or equal to the number of atoms in the input molecules (=63).\n",
      "\n",
      "100%|██████████| 2050/2050 [00:01<00:00, 1181.90it/s]\n",
      "INFO:chainer_chemistry.dataset.parsers.data_frame_parser:Preprocess finished. FAIL 103, SUCCESS 1947, TOTAL 2050\n"
     ]
    }
   ],
   "source": [
    "import logging\n",
    "from rdkit import RDLogger\n",
    "import chainer_chemistry.datasets as D\n",
    "from chainer_chemistry.datasets.molnet.molnet_config import molnet_default_config\n",
    "from chainer_chemistry.dataset.preprocessors import preprocess_method_dict\n",
    "import numpy as np\n",
    "from chainer_chemistry.dataset.preprocessors import GGNNPreprocessor, NFPPreprocessor\n",
    "import matplotlib.pyplot as plt\n",
    "import pandas as pd\n",
    "from sklearn.preprocessing import OneHotEncoder\n",
    "\n",
    "# Disable errors by RDKit occurred in preprocessing Tox21 dataset.\n",
    "lg = RDLogger.logger()\n",
    "lg.setLevel(RDLogger.CRITICAL)\n",
    "\n",
    "# show INFO level log from chainer chemistry\n",
    "logging.basicConfig(level=logging.INFO)\n",
    "\n",
    "N = 40\n",
    "F_0 = 53\n",
    "\n",
    "# preprocessor = GGNNPreprocessor(max_atoms=38, out_size=75)\n",
    "preprocessor = NFPPreprocessor(max_atoms=-1, out_size=40)\n",
    "dataset_parts = D.molnet.get_molnet_dataset('bbbp',\n",
    "                                            preprocessor=preprocessor,\n",
    "                                            frac_train=0.8,\n",
    "                                            frac_valid=0,\n",
    "                                            frac_test=0.2,\n",
    "                                           )['dataset']\n",
    "\n",
    "train, valid, test = dataset_parts[0], dataset_parts[1], dataset_parts[2]"
   ]
  },
  {
   "cell_type": "code",
   "execution_count": 282,
   "metadata": {
    "scrolled": true
   },
   "outputs": [
    {
     "data": {
      "text/plain": [
       "(40, 53)"
      ]
     },
     "execution_count": 282,
     "metadata": {},
     "output_type": "execute_result"
    }
   ],
   "source": [
    "np.max([x.shape[0] for x in train.get_datasets()[0]]), np.max([np.max(x[0]) for x in train])"
   ]
  },
  {
   "cell_type": "code",
   "execution_count": 283,
   "metadata": {
    "scrolled": true
   },
   "outputs": [
    {
     "data": {
      "text/plain": [
       "((40,), (40, 40), (1,))"
      ]
     },
     "execution_count": 283,
     "metadata": {},
     "output_type": "execute_result"
    }
   ],
   "source": [
    "train[0][0].shape, train[0][1].shape, train[0][2].shape "
   ]
  },
  {
   "cell_type": "code",
   "execution_count": 284,
   "metadata": {},
   "outputs": [
    {
     "data": {
      "text/plain": [
       "<matplotlib.image.AxesImage at 0x126625c18>"
      ]
     },
     "execution_count": 284,
     "metadata": {},
     "output_type": "execute_result"
    },
    {
     "data": {
      "image/png": "[encoded data removed]",
      "text/plain": [
       "<Figure size 432x288 with 1 Axes>"
      ]
     },
     "metadata": {},
     "output_type": "display_data"
    }
   ],
   "source": [
    "plt.imshow(train[9][1])"
   ]
  },
  {
   "cell_type": "code",
   "execution_count": 286,
   "metadata": {},
   "outputs": [
    {
     "data": {
      "text/plain": [
       "(40,)"
      ]
     },
     "execution_count": 286,
     "metadata": {},
     "output_type": "execute_result"
    }
   ],
   "source": [
    "def process_data(data):\n",
    "    feature_vectors = np.zeros((len(data), N, F_0))\n",
    "\n",
    "train_features = np.array(np.array(train)[:,0])\n",
    "train_features[0].shape"
   ]
  },
  {
   "cell_type": "code",
   "execution_count": 287,
   "metadata": {},
   "outputs": [
    {
     "ename": "AttributeError",
     "evalue": "'OneHotEncoder' object has no attribute 'feature_indices_'",
     "output_type": "error",
     "traceback": [
      "\u001b[0;31m--------------------------------------------------------------------------\u001b[0m",
      "\u001b[0;31mAttributeError\u001b[0m                           Traceback (most recent call last)",
      "\u001b[0;32m<ipython-input-287-e0c19e8c1b15>\u001b[0m in \u001b[0;36m<module>\u001b[0;34m()\u001b[0m\n\u001b[1;32m      1\u001b[0m \u001b[0menc\u001b[0m \u001b[0;34m=\u001b[0m \u001b[0mOneHotEncoder\u001b[0m\u001b[0;34m(\u001b[0m\u001b[0mnp\u001b[0m\u001b[0;34m.\u001b[0m\u001b[0marange\u001b[0m\u001b[0;34m(\u001b[0m\u001b[0;36m1\u001b[0m\u001b[0;34m,\u001b[0m\u001b[0;36m54\u001b[0m\u001b[0;34m)\u001b[0m\u001b[0;34m,\u001b[0m \u001b[0mhandle_unknown\u001b[0m\u001b[0;34m=\u001b[0m\u001b[0;34m'ignore'\u001b[0m\u001b[0;34m)\u001b[0m\u001b[0;34m\u001b[0m\u001b[0m\n\u001b[0;32m----> 2\u001b[0;31m \u001b[0menc\u001b[0m\u001b[0;34m.\u001b[0m\u001b[0mtransform\u001b[0m\u001b[0;34m(\u001b[0m\u001b[0mnp\u001b[0m\u001b[0;34m.\u001b[0m\u001b[0mreshape\u001b[0m\u001b[0;34m(\u001b[0m\u001b[0mtrain\u001b[0m\u001b[0;34m[\u001b[0m\u001b[0;36m9\u001b[0m\u001b[0;34m]\u001b[0m\u001b[0;34m[\u001b[0m\u001b[0;36m0\u001b[0m\u001b[0;34m]\u001b[0m\u001b[0;34m,\u001b[0m \u001b[0;34m(\u001b[0m\u001b[0;34m-\u001b[0m\u001b[0;36m1\u001b[0m\u001b[0;34m,\u001b[0m\u001b[0;36m1\u001b[0m\u001b[0;34m)\u001b[0m\u001b[0;34m)\u001b[0m\u001b[0;34m)\u001b[0m\u001b[0;34m\u001b[0m\u001b[0m\n\u001b[0m",
      "\u001b[0;32m~/anaconda/envs/tensorflow3/lib/python3.6/site-packages/sklearn/preprocessing/data.py\u001b[0m in \u001b[0;36mtransform\u001b[0;34m(self, X)\u001b[0m\n\u001b[1;32m   2073\u001b[0m         \"\"\"\n\u001b[1;32m   2074\u001b[0m         return _transform_selected(X, self._transform,\n\u001b[0;32m-> 2075\u001b[0;31m                                    self.categorical_features, copy=True)\n\u001b[0m\u001b[1;32m   2076\u001b[0m \u001b[0;34m\u001b[0m\u001b[0m\n\u001b[1;32m   2077\u001b[0m \u001b[0;34m\u001b[0m\u001b[0m\n",
      "\u001b[0;32m~/anaconda/envs/tensorflow3/lib/python3.6/site-packages/sklearn/preprocessing/data.py\u001b[0m in \u001b[0;36m_transform_selected\u001b[0;34m(X, transform, selected, copy)\u001b[0m\n\u001b[1;32m   1810\u001b[0m \u001b[0;34m\u001b[0m\u001b[0m\n\u001b[1;32m   1811\u001b[0m     \u001b[0;32mif\u001b[0m \u001b[0misinstance\u001b[0m\u001b[0;34m(\u001b[0m\u001b[0mselected\u001b[0m\u001b[0;34m,\u001b[0m \u001b[0msix\u001b[0m\u001b[0;34m.\u001b[0m\u001b[0mstring_types\u001b[0m\u001b[0;34m)\u001b[0m \u001b[0;32mand\u001b[0m \u001b[0mselected\u001b[0m \u001b[0;34m==\u001b[0m \u001b[0;34m\"all\"\u001b[0m\u001b[0;34m:\u001b[0m\u001b[0;34m\u001b[0m\u001b[0m\n\u001b[0;32m-> 1812\u001b[0;31m         \u001b[0;32mreturn\u001b[0m \u001b[0mtransform\u001b[0m\u001b[0;34m(\u001b[0m\u001b[0mX\u001b[0m\u001b[0;34m)\u001b[0m\u001b[0;34m\u001b[0m\u001b[0m\n\u001b[0m\u001b[1;32m   1813\u001b[0m \u001b[0;34m\u001b[0m\u001b[0m\n\u001b[1;32m   1814\u001b[0m     \u001b[0;32mif\u001b[0m \u001b[0mlen\u001b[0m\u001b[0;34m(\u001b[0m\u001b[0mselected\u001b[0m\u001b[0;34m)\u001b[0m \u001b[0;34m==\u001b[0m \u001b[0;36m0\u001b[0m\u001b[0;34m:\u001b[0m\u001b[0;34m\u001b[0m\u001b[0m\n",
      "\u001b[0;32m~/anaconda/envs/tensorflow3/lib/python3.6/site-packages/sklearn/preprocessing/data.py\u001b[0m in \u001b[0;36m_transform\u001b[0;34m(self, X)\u001b[0m\n\u001b[1;32m   2026\u001b[0m         \u001b[0mn_samples\u001b[0m\u001b[0;34m,\u001b[0m \u001b[0mn_features\u001b[0m \u001b[0;34m=\u001b[0m \u001b[0mX\u001b[0m\u001b[0;34m.\u001b[0m\u001b[0mshape\u001b[0m\u001b[0;34m\u001b[0m\u001b[0m\n\u001b[1;32m   2027\u001b[0m \u001b[0;34m\u001b[0m\u001b[0m\n\u001b[0;32m-> 2028\u001b[0;31m         \u001b[0mindices\u001b[0m \u001b[0;34m=\u001b[0m \u001b[0mself\u001b[0m\u001b[0;34m.\u001b[0m\u001b[0mfeature_indices_\u001b[0m\u001b[0;34m\u001b[0m\u001b[0m\n\u001b[0m\u001b[1;32m   2029\u001b[0m         \u001b[0;32mif\u001b[0m \u001b[0mn_features\u001b[0m \u001b[0;34m!=\u001b[0m \u001b[0mindices\u001b[0m\u001b[0;34m.\u001b[0m\u001b[0mshape\u001b[0m\u001b[0;34m[\u001b[0m\u001b[0;36m0\u001b[0m\u001b[0;34m]\u001b[0m \u001b[0;34m-\u001b[0m \u001b[0;36m1\u001b[0m\u001b[0;34m:\u001b[0m\u001b[0;34m\u001b[0m\u001b[0m\n\u001b[1;32m   2030\u001b[0m             raise ValueError(\"X has different shape than during fitting.\"\n",
      "\u001b[0;31mAttributeError\u001b[0m: 'OneHotEncoder' object has no attribute 'feature_indices_'"
     ]
    }
   ],
   "source": [
    "enc = OneHotEncoder(np.arange(1,54), handle_unknown='ignore')\n",
    "enc.transform(np.reshape(train[9][0], (-1,1)))"
   ]
  },
  {
   "cell_type": "code",
   "execution_count": 288,
   "metadata": {
    "scrolled": true
   },
   "outputs": [
    {
     "data": {
      "text/plain": [
       "<matplotlib.image.AxesImage at 0x126bb4c50>"
      ]
     },
     "execution_count": 288,
     "metadata": {},
     "output_type": "execute_result"
    },
    {
     "data": {
      "image/png": "[encoded data removed]",
      "text/plain": [
       "<Figure size 432x288 with 1 Axes>"
      ]
     },
     "metadata": {},
     "output_type": "display_data"
    }
   ],
   "source": [
    "plt.imshow(np.reshape(train[9][0], (1,-1)))"
   ]
  },
  {
   "cell_type": "code",
   "execution_count": 225,
   "metadata": {},
   "outputs": [
    {
     "name": "stdout",
     "output_type": "stream",
     "text": [
      "[(0, 'C'), (1, 'C'), (2, 'C'), (3, 'C'), (4, 'C'), (5, 'C'), (6, 'C'), (7, 'C'), (8, 'C'), (9, 'C'), (10, 'C'), (11, 'C')]\n",
      "[[0. 1. 0. 0. 0. 1. 0. 0. 0. 0. 0. 0.]\n",
      " [1. 0. 1. 0. 0. 0. 0. 0. 0. 0. 0. 0.]\n",
      " [0. 1. 0. 1. 0. 0. 0. 0. 0. 0. 0. 0.]\n",
      " [0. 0. 1. 0. 1. 0. 0. 0. 0. 0. 0. 0.]\n",
      " [0. 0. 0. 1. 0. 1. 0. 0. 0. 0. 0. 0.]\n",
      " [1. 0. 0. 0. 1. 0. 1. 0. 0. 0. 0. 0.]\n",
      " [0. 0. 0. 0. 0. 1. 0. 1. 0. 0. 0. 1.]\n",
      " [0. 0. 0. 0. 0. 0. 1. 0. 1. 0. 0. 0.]\n",
      " [0. 0. 0. 0. 0. 0. 0. 1. 0. 2. 0. 0.]\n",
      " [0. 0. 0. 0. 0. 0. 0. 0. 2. 0. 1. 0.]\n",
      " [0. 0. 0. 0. 0. 0. 0. 0. 0. 1. 0. 1.]\n",
      " [0. 0. 0. 0. 0. 0. 1. 0. 0. 0. 1. 0.]]\n"
     ]
    }
   ],
   "source": [
    "from pysmiles import read_smiles\n",
    "import networkx as nx\n",
    "\n",
    "smiles = 'C1CC[13CH2]CC1C1CC=CCC1'\n",
    "mol = read_smiles(smiles)\n",
    "\n",
    "# atom vector (C only)\n",
    "print(mol.nodes(data='element'))\n",
    "# adjacency matrix\n",
    "print(nx.to_numpy_matrix(mol, weight='order'))"
   ]
  },
  {
   "cell_type": "code",
   "execution_count": 226,
   "metadata": {},
   "outputs": [
    {
     "name": "stdout",
     "output_type": "stream",
     "text": [
      "BBBP.csv     BBBP_README\r\n"
     ]
    }
   ],
   "source": [
    "ls bbbp/"
   ]
  },
  {
   "cell_type": "code",
   "execution_count": 227,
   "metadata": {},
   "outputs": [
    {
     "data": {
      "text/html": [
       "<div>\n",
       "<style scoped>\n",
       "    .dataframe tbody tr th:only-of-type {\n",
       "        vertical-align: middle;\n",
       "    }\n",
       "\n",
       "    .dataframe tbody tr th {\n",
       "        vertical-align: top;\n",
       "    }\n",
       "\n",
       "    .dataframe thead th {\n",
       "        text-align: right;\n",
       "    }\n",
       "</style>\n",
       "<table border=\"1\" class=\"dataframe\">\n",
       "  <thead>\n",
       "    <tr style=\"text-align: right;\">\n",
       "      <th></th>\n",
       "      <th>name</th>\n",
       "      <th>p_np</th>\n",
       "      <th>smiles</th>\n",
       "    </tr>\n",
       "    <tr>\n",
       "      <th>num</th>\n",
       "      <th></th>\n",
       "      <th></th>\n",
       "      <th></th>\n",
       "    </tr>\n",
       "  </thead>\n",
       "  <tbody>\n",
       "    <tr>\n",
       "      <th>1</th>\n",
       "      <td>Propanolol</td>\n",
       "      <td>1</td>\n",
       "      <td>[Cl].CC(C)NCC(O)COc1cccc2ccccc12</td>\n",
       "    </tr>\n",
       "    <tr>\n",
       "      <th>2</th>\n",
       "      <td>Terbutylchlorambucil</td>\n",
       "      <td>1</td>\n",
       "      <td>C(=O)(OC(C)(C)C)CCCc1ccc(cc1)N(CCCl)CCCl</td>\n",
       "    </tr>\n",
       "    <tr>\n",
       "      <th>3</th>\n",
       "      <td>40730</td>\n",
       "      <td>1</td>\n",
       "      <td>c12c3c(N4CCN(C)CC4)c(F)cc1c(c(C(O)=O)cn2C(C)CO...</td>\n",
       "    </tr>\n",
       "    <tr>\n",
       "      <th>4</th>\n",
       "      <td>24</td>\n",
       "      <td>1</td>\n",
       "      <td>C1CCN(CC1)Cc1cccc(c1)OCCCNC(=O)C</td>\n",
       "    </tr>\n",
       "    <tr>\n",
       "      <th>5</th>\n",
       "      <td>cloxacillin</td>\n",
       "      <td>1</td>\n",
       "      <td>Cc1onc(c2ccccc2Cl)c1C(=O)N[C@H]3[C@H]4SC(C)(C)...</td>\n",
       "    </tr>\n",
       "  </tbody>\n",
       "</table>\n",
       "</div>"
      ],
      "text/plain": [
       "                     name  p_np  \\\n",
       "num                               \n",
       "1              Propanolol     1   \n",
       "2    Terbutylchlorambucil     1   \n",
       "3                   40730     1   \n",
       "4                      24     1   \n",
       "5             cloxacillin     1   \n",
       "\n",
       "                                                smiles  \n",
       "num                                                     \n",
       "1                     [Cl].CC(C)NCC(O)COc1cccc2ccccc12  \n",
       "2             C(=O)(OC(C)(C)C)CCCc1ccc(cc1)N(CCCl)CCCl  \n",
       "3    c12c3c(N4CCN(C)CC4)c(F)cc1c(c(C(O)=O)cn2C(C)CO...  \n",
       "4                     C1CCN(CC1)Cc1cccc(c1)OCCCNC(=O)C  \n",
       "5    Cc1onc(c2ccccc2Cl)c1C(=O)N[C@H]3[C@H]4SC(C)(C)...  "
      ]
     },
     "execution_count": 227,
     "metadata": {},
     "output_type": "execute_result"
    }
   ],
   "source": [
    "df = pd.read_csv('bbbp/BBBP.csv', index_col='num')\n",
    "df.head()"
   ]
  },
  {
   "cell_type": "code",
   "execution_count": 228,
   "metadata": {},
   "outputs": [
    {
     "data": {
      "text/plain": [
       "'[Cl].CC(C)NCC(O)COc1cccc2ccccc12'"
      ]
     },
     "execution_count": 228,
     "metadata": {},
     "output_type": "execute_result"
    }
   ],
   "source": [
    "df.iloc[0].smiles"
   ]
  },
  {
   "cell_type": "code",
   "execution_count": 230,
   "metadata": {},
   "outputs": [
    {
     "name": "stdout",
     "output_type": "stream",
     "text": [
      "Cn1c2CCC(Cn3ccnc3C)C(=O)c2c4ccccc14\n",
      "[(0, 'C'), (1, 'N'), (2, 'C'), (3, 'C'), (4, 'C'), (5, 'C'), (6, 'C'), (7, 'N'), (8, 'C'), (9, 'C'), (10, 'N'), (11, 'C'), (12, 'C'), (13, 'C'), (14, 'O'), (15, 'C'), (16, 'C'), (17, 'C'), (18, 'C'), (19, 'C'), (20, 'C'), (21, 'C')]\n"
     ]
    },
    {
     "data": {
      "text/plain": [
       "<matplotlib.image.AxesImage at 0x1268accc0>"
      ]
     },
     "execution_count": 230,
     "metadata": {},
     "output_type": "execute_result"
    },
    {
     "data": {
      "image/png": "[encoded data removed]",
      "text/plain": [
       "<Figure size 432x288 with 1 Axes>"
      ]
     },
     "metadata": {},
     "output_type": "display_data"
    }
   ],
   "source": [
    "smiles = df.iloc[7].smiles\n",
    "mol = read_smiles(smiles)\n",
    "\n",
    "print(smiles)\n",
    "# atom vector (C only)\n",
    "print(mol.nodes(data='element'))\n",
    "# adjacency matrix\n",
    "# print(nx.to_numpy_matrix(mol, weight='order'))\n",
    "plt.imshow(nx.to_numpy_matrix(mol, weight='order'))"
   ]
  },
  {
   "cell_type": "code",
   "execution_count": 39,
   "metadata": {},
   "outputs": [
    {
     "data": {
      "image/png": "[encoded data removed]",
      "text/plain": [
       "<Figure size 216x216 with 1 Axes>"
      ]
     },
     "execution_count": 39,
     "metadata": {},
     "output_type": "execute_result"
    },
    {
     "data": {
      "image/png": "[encoded data removed]",
      "text/plain": [
       "<Figure size 216x216 with 1 Axes>"
      ]
     },
     "metadata": {
      "needs_background": "light"
     },
     "output_type": "display_data"
    }
   ],
   "source": [
    "Draw.MolToMPL(mol)"
   ]
  },
  {
   "cell_type": "code",
   "execution_count": 37,
   "metadata": {
    "scrolled": true
   },
   "outputs": [
    {
     "data": {
      "text/plain": [
       "<matplotlib.image.AxesImage at 0x7f78f05ce550>"
      ]
     },
     "execution_count": 37,
     "metadata": {},
     "output_type": "execute_result"
    },
    {
     "data": {
      "image/png": "[encoded data removed]",
      "text/plain": [
       "<Figure size 432x288 with 1 Axes>"
      ]
     },
     "metadata": {
      "needs_background": "light"
     },
     "output_type": "display_data"
    }
   ],
   "source": [
    "mol = Chem.MolFromSmiles(df.iloc[0].smiles)\n",
    "plt.imshow(rdmolops.GetAdjacencyMatrix(mol, useBO=True))\n"
   ]
  },
  {
   "cell_type": "code",
   "execution_count": 17,
   "metadata": {},
   "outputs": [
    {
     "ename": "NameError",
     "evalue": "name 'OneHotEncoder' is not defined",
     "output_type": "error",
     "traceback": [
      "\u001b[0;31m-----------------------------------------------------------------------\u001b[0m",
      "\u001b[0;31mNameError\u001b[0m                             Traceback (most recent call last)",
      "\u001b[0;32m<ipython-input-17-f5a3278df8e1>\u001b[0m in \u001b[0;36m<module>\u001b[0;34m\u001b[0m\n\u001b[1;32m     36\u001b[0m     \u001b[0mlabels\u001b[0m\u001b[0;34m.\u001b[0m\u001b[0mappend\u001b[0m\u001b[0;34m(\u001b[0m\u001b[0mrow\u001b[0m\u001b[0;34m.\u001b[0m\u001b[0mp_np\u001b[0m\u001b[0;34m)\u001b[0m\u001b[0;34m\u001b[0m\u001b[0;34m\u001b[0m\u001b[0m\n\u001b[1;32m     37\u001b[0m \u001b[0;34m\u001b[0m\u001b[0m\n\u001b[0;32m---> 38\u001b[0;31m \u001b[0menc\u001b[0m \u001b[0;34m=\u001b[0m \u001b[0mOneHotEncoder\u001b[0m\u001b[0;34m(\u001b[0m\u001b[0mhandle_unknown\u001b[0m\u001b[0;34m=\u001b[0m\u001b[0;34m'ignore'\u001b[0m\u001b[0;34m,\u001b[0m \u001b[0msparse\u001b[0m\u001b[0;34m=\u001b[0m\u001b[0;32mFalse\u001b[0m\u001b[0;34m)\u001b[0m\u001b[0;34m\u001b[0m\u001b[0;34m\u001b[0m\u001b[0m\n\u001b[0m\u001b[1;32m     39\u001b[0m \u001b[0mfeature_matrices\u001b[0m \u001b[0;34m=\u001b[0m \u001b[0menc\u001b[0m\u001b[0;34m.\u001b[0m\u001b[0mfit_transform\u001b[0m\u001b[0;34m(\u001b[0m\u001b[0mfeature_matrices\u001b[0m\u001b[0;34m)\u001b[0m\u001b[0;34m\u001b[0m\u001b[0;34m\u001b[0m\u001b[0m\n\u001b[1;32m     40\u001b[0m \u001b[0mfeature_matrices\u001b[0m \u001b[0;34m=\u001b[0m \u001b[0mnp\u001b[0m\u001b[0;34m.\u001b[0m\u001b[0mreshape\u001b[0m\u001b[0;34m(\u001b[0m\u001b[0mfeature_matrices\u001b[0m\u001b[0;34m,\u001b[0m \u001b[0;34m(\u001b[0m\u001b[0;34m-\u001b[0m\u001b[0;36m1\u001b[0m\u001b[0;34m,\u001b[0m \u001b[0mN\u001b[0m\u001b[0;34m,\u001b[0m \u001b[0;36m8\u001b[0m\u001b[0;34m)\u001b[0m\u001b[0;34m)\u001b[0m\u001b[0;34m\u001b[0m\u001b[0;34m\u001b[0m\u001b[0m\n",
      "\u001b[0;31mNameError\u001b[0m: name 'OneHotEncoder' is not defined"
     ]
    }
   ],
   "source": [
    "import rdkit\n",
    "from rdkit import Chem\n",
    "from rdkit.Chem import rdmolops\n",
    "import pandas as pd\n",
    "\n",
    "df = pd.read_csv('bbbp/BBBP.csv', index_col='num')\n",
    "\n",
    "N = 40\n",
    "F_0 = 53\n",
    "feature_matrices = [] # np.zeros((len(df), N, 1))\n",
    "adj_matrices = [] # np.zeros((len(df), N, N))\n",
    "labels = [] # np.zeros((len(df), 1))\n",
    "for i in range(len(df)):\n",
    "    row = df.iloc[i]\n",
    "    mol = Chem.MolFromSmiles(row.smiles)\n",
    "    if mol is None:\n",
    "        continue\n",
    "        \n",
    "    # Adjacency Matrix    \n",
    "    adj = rdmolops.GetAdjacencyMatrix(mol, useBO=True)\n",
    "    adj_matrix = np.zeros((N,N))\n",
    "    s0, s1 = adj.shape\n",
    "    if s0 > N:\n",
    "        continue\n",
    "    adj_matrix[:s0, :s1] = adj + np.eye(s0)\n",
    "    adj_matrices.append(adj_matrix)\n",
    "    \n",
    "    # Feature Vector\n",
    "    feature_matrix = np.zeros((N, F_0))\n",
    "    atomic_nums = [atom.GetAtomicNum() for atom in mol.GetAtoms()]\n",
    "    padded_atomic_nums = [0] * N\n",
    "    padded_atomic_nums[:len(atomic_nums)] = atomic_nums\n",
    "    feature_matrices.append(padded_atomic_nums)\n",
    "    \n",
    "    # Labels\n",
    "    labels.append(row.p_np)\n",
    "\n",
    "enc = OneHotEncoder(handle_unknown='ignore', sparse=False)\n",
    "feature_matrices = enc.fit_transform(feature_matrices)\n",
    "feature_matrices = np.reshape(feature_matrices, (-1, N, 8))\n",
    "len(adj_matrices), feature_matrices.shape, len(labels)"
   ]
  },
  {
   "cell_type": "code",
   "execution_count": 361,
   "metadata": {},
   "outputs": [
    {
     "data": {
      "text/plain": [
       "<matplotlib.image.AxesImage at 0x127cae400>"
      ]
     },
     "execution_count": 361,
     "metadata": {},
     "output_type": "execute_result"
    },
    {
     "data": {
      "image/png": "[encoded data removed]",
      "text/plain": [
       "<Figure size 432x288 with 1 Axes>"
      ]
     },
     "metadata": {},
     "output_type": "display_data"
    }
   ],
   "source": [
    "plt.imshow(feature_matrices[0])"
   ]
  },
  {
   "cell_type": "markdown",
   "metadata": {},
   "source": [
    "https://pypi.org/project/mendeleev/"
   ]
  },
  {
   "cell_type": "code",
   "execution_count": 5,
   "metadata": {},
   "outputs": [],
   "source": [
    "from scipy.sparse import coo_matrix\n",
    "import numpy as np\n",
    "row  = np.array([0, 3, 1, 0])\n",
    "col  = np.array([0, 3, 1, 2])\n",
    "data = np.array([4, 5, 7, 9])\n",
    "A = coo_matrix((data, (row, col)), shape=(4, 4))"
   ]
  },
  {
   "cell_type": "code",
   "execution_count": 15,
   "metadata": {},
   "outputs": [
    {
     "data": {
      "text/plain": [
       "array([4, 5, 7, 9])"
      ]
     },
     "execution_count": 15,
     "metadata": {},
     "output_type": "execute_result"
    }
   ],
   "source": [
    "A.data"
   ]
  },
  {
   "cell_type": "code",
   "execution_count": 13,
   "metadata": {},
   "outputs": [
    {
     "data": {
      "text/plain": [
       "array([[4, 0, 9, 0],\n",
       "       [0, 7, 0, 0],\n",
       "       [0, 0, 0, 0],\n",
       "       [0, 0, 0, 5]])"
      ]
     },
     "execution_count": 13,
     "metadata": {},
     "output_type": "execute_result"
    }
   ],
   "source": [
    "coo_matrix(A.toarray()).toarray()"
   ]
  },
  {
   "cell_type": "code",
   "execution_count": 61,
   "metadata": {},
   "outputs": [
    {
     "data": {
      "text/plain": [
       "<matplotlib.image.AxesImage at 0x7f78e379cdd8>"
      ]
     },
     "execution_count": 61,
     "metadata": {},
     "output_type": "execute_result"
    },
    {
     "data": {
      "image/png": "[encoded data removed]",
      "text/plain": [
       "<Figure size 864x288 with 3 Axes>"
      ]
     },
     "metadata": {
      "needs_background": "light"
     },
     "output_type": "display_data"
    }
   ],
   "source": [
    "from rdkit.Chem import Draw\n",
    "from matplotlib.colors import ColorConverter\n",
    "\n",
    "mol = Chem.MolFromSmiles(df.iloc[0].smiles)\n",
    "img = Draw.MolToImage(mol, highlightAtoms=[1,2], highlightColor=ColorConverter().to_rgb('aqua')) \n",
    "\n",
    "# plt.imshow(rdmolops.GetAdjacencyMatrix(mol, useBO=True))\n",
    "fig, axes = plt.subplots(1,3, figsize=(12,4))\n",
    "# fig.add_axes(Draw.MolToMPL(mol).axes[0])\n",
    "axes[0].imshow(img)\n",
    "# plt.show()"
   ]
  },
  {
   "cell_type": "code",
   "execution_count": 35,
   "metadata": {},
   "outputs": [
    {
     "data": {
      "text/plain": [
       "<rdkit.Chem.rdchem.Mol at 0x7f78ea89fd00>"
      ]
     },
     "execution_count": 35,
     "metadata": {},
     "output_type": "execute_result"
    }
   ],
   "source": [
    "mol"
   ]
  },
  {
   "cell_type": "code",
   "execution_count": 64,
   "metadata": {},
   "outputs": [
    {
     "data": {
      "text/plain": [
       "<matplotlib.axes._axes.Axes at 0x7f78ea66f940>"
      ]
     },
     "execution_count": 64,
     "metadata": {},
     "output_type": "execute_result"
    },
    {
     "data": {
      "image/png": "[encoded data removed]",
      "text/plain": [
       "<Figure size 216x216 with 2 Axes>"
      ]
     },
     "metadata": {
      "needs_background": "light"
     },
     "output_type": "display_data"
    }
   ],
   "source": [
    "fig = Draw.MolToMPL(mol)\n",
    "fig.add_axes([0, -2.5, 2.5, 2.5])"
   ]
  },
  {
   "cell_type": "code",
   "execution_count": 66,
   "metadata": {},
   "outputs": [],
   "source": [
    "Draw.MolToFile(mol, 'test.svg')"
   ]
  },
  {
   "cell_type": "code",
   "execution_count": null,
   "metadata": {},
   "outputs": [],
   "source": []
  }
 ],
 "metadata": {
  "kernelspec": {
   "display_name": "Python 3",
   "language": "python",
   "name": "python3"
  },
  "language_info": {
   "codemirror_mode": {
    "name": "ipython",
    "version": 3
   },
   "file_extension": ".py",
   "mimetype": "text/x-python",
   "name": "python",
   "nbconvert_exporter": "python",
   "pygments_lexer": "ipython3",
   "version": "3.7.3"
  }
 },
 "nbformat": 4,
 "nbformat_minor": 2
}
